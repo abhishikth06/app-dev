{
 "cells": [
  {
   "cell_type": "raw",
   "id": "2b604c62-01f0-44d2-b04d-f703efa289de",
   "metadata": {},
   "source": [
    "def"
   ]
  },
  {
   "cell_type": "code",
   "execution_count": 3,
   "id": "4494a47a-742f-4906-a267-987e3cb444f0",
   "metadata": {},
   "outputs": [
    {
     "data": {
      "text/plain": [
       "<function len(obj, /)>"
      ]
     },
     "execution_count": 3,
     "metadata": {},
     "output_type": "execute_result"
    }
   ],
   "source": [
    "len"
   ]
  },
  {
   "cell_type": "code",
   "execution_count": 9,
   "id": "9695f6fa-ea19-4a27-9c22-4c838b4a5863",
   "metadata": {},
   "outputs": [
    {
     "data": {
      "text/plain": [
       "'MallA Reddy 2027'"
      ]
     },
     "execution_count": 9,
     "metadata": {},
     "output_type": "execute_result"
    }
   ],
   "source": [
    "y='MallA Reddy 2027'\n",
    "y"
   ]
  },
  {
   "cell_type": "code",
   "execution_count": 11,
   "id": "11e6f8f0-aada-477d-b734-67bc245b9c62",
   "metadata": {},
   "outputs": [
    {
     "data": {
      "text/plain": [
       "16"
      ]
     },
     "execution_count": 11,
     "metadata": {},
     "output_type": "execute_result"
    }
   ],
   "source": [
    "len(y)"
   ]
  },
  {
   "cell_type": "code",
   "execution_count": 13,
   "id": "a5da9a6e-ec87-469a-80bd-99c799ee68d5",
   "metadata": {},
   "outputs": [
    {
     "data": {
      "text/plain": [
       "1"
      ]
     },
     "execution_count": 13,
     "metadata": {},
     "output_type": "execute_result"
    }
   ],
   "source": [
    "y.count('a')"
   ]
  },
  {
   "cell_type": "raw",
   "id": "1dac2a65-c238-4d7b-affb-2e4351821009",
   "metadata": {},
   "source": [
    "def functionname(parameter):\n",
    "    block of code\n",
    "    return output"
   ]
  },
  {
   "cell_type": "markdown",
   "id": "7a9fa61e-a890-4d15-9412-41336637ccf1",
   "metadata": {},
   "source": [
    "## Here always use return not print"
   ]
  },
  {
   "cell_type": "code",
   "execution_count": 45,
   "id": "2273de33-086e-4699-b55e-b53eda2b0e69",
   "metadata": {},
   "outputs": [],
   "source": [
    "def calArea1(r):\n",
    "    a=3.14*r*r\n",
    "    return a "
   ]
  },
  {
   "cell_type": "code",
   "execution_count": 37,
   "id": "7790d1c2-dbc2-4a57-a30c-52f3c4a1fef7",
   "metadata": {},
   "outputs": [
    {
     "name": "stdout",
     "output_type": "stream",
     "text": [
      "2826.0\n"
     ]
    },
    {
     "data": {
      "text/plain": [
       "float"
      ]
     },
     "execution_count": 37,
     "metadata": {},
     "output_type": "execute_result"
    }
   ],
   "source": [
    "w=calArea1(r=30)\n",
    "print(w)\n",
    "type(w)"
   ]
  },
  {
   "cell_type": "code",
   "execution_count": 41,
   "id": "15b10f7d-7f8a-45f7-97de-d1c30085ed0a",
   "metadata": {},
   "outputs": [],
   "source": [
    "def calArea(ra):\n",
    "    b=3.14*r*r\n",
    "    print(b) # This Will give NoneType "
   ]
  },
  {
   "cell_type": "code",
   "execution_count": 43,
   "id": "b9bf4c8a-9d36-4fa1-82b8-6f4d9a7d69c2",
   "metadata": {},
   "outputs": [
    {
     "name": "stdout",
     "output_type": "stream",
     "text": [
      "314.0\n"
     ]
    },
    {
     "data": {
      "text/plain": [
       "NoneType"
      ]
     },
     "execution_count": 43,
     "metadata": {},
     "output_type": "execute_result"
    }
   ],
   "source": [
    "w=calArea(ra=30)\n",
    "type(w)"
   ]
  },
  {
   "cell_type": "code",
   "execution_count": 50,
   "id": "04731ffd-a929-4ac2-83e2-de593ea6fd64",
   "metadata": {},
   "outputs": [
    {
     "name": "stdout",
     "output_type": "stream",
     "text": [
      "India\n"
     ]
    }
   ],
   "source": [
    "a = print(\"India\") # Here the data type changes to NoneType\n",
    "a"
   ]
  },
  {
   "cell_type": "code",
   "execution_count": 52,
   "id": "e506cce6-0576-40bd-8285-d9cf7e908e17",
   "metadata": {},
   "outputs": [
    {
     "data": {
      "text/plain": [
       "NoneType"
      ]
     },
     "execution_count": 52,
     "metadata": {},
     "output_type": "execute_result"
    }
   ],
   "source": [
    "type(a)"
   ]
  },
  {
   "cell_type": "code",
   "execution_count": 54,
   "id": "5c0aaec3-68cb-4669-820f-48da3d965391",
   "metadata": {},
   "outputs": [
    {
     "ename": "AttributeError",
     "evalue": "'NoneType' object has no attribute 'lower'",
     "output_type": "error",
     "traceback": [
      "\u001b[1;31m---------------------------------------------------------------------------\u001b[0m",
      "\u001b[1;31mAttributeError\u001b[0m                            Traceback (most recent call last)",
      "Cell \u001b[1;32mIn[54], line 1\u001b[0m\n\u001b[1;32m----> 1\u001b[0m a\u001b[38;5;241m.\u001b[39mlower()\n",
      "\u001b[1;31mAttributeError\u001b[0m: 'NoneType' object has no attribute 'lower'"
     ]
    }
   ],
   "source": [
    "a.lower() # Here the data type becomes NoneType so we cannot perform string operations"
   ]
  },
  {
   "cell_type": "code",
   "execution_count": 59,
   "id": "d1ec1e10-ad39-4126-a9dd-26d05917dd9f",
   "metadata": {},
   "outputs": [],
   "source": [
    "def aor(l,w):\n",
    "    area = l *w\n",
    "    return area"
   ]
  },
  {
   "cell_type": "code",
   "execution_count": 81,
   "id": "2a80764e-52d8-4085-a23f-d2cd0c630ae7",
   "metadata": {},
   "outputs": [
    {
     "data": {
      "text/plain": [
       "50"
      ]
     },
     "execution_count": 81,
     "metadata": {},
     "output_type": "execute_result"
    }
   ],
   "source": [
    "aor(5,10)"
   ]
  },
  {
   "cell_type": "markdown",
   "id": "2195efeb-3e7b-4a45-96b7-f9e51ce01979",
   "metadata": {},
   "source": [
    "### Here we need to remember either parameters or positions of the parameter"
   ]
  },
  {
   "cell_type": "code",
   "execution_count": 71,
   "id": "4775cec1-5382-4fb0-b6c5-f07966c876c4",
   "metadata": {},
   "outputs": [
    {
     "data": {
      "text/plain": [
       "50"
      ]
     },
     "execution_count": 71,
     "metadata": {},
     "output_type": "execute_result"
    }
   ],
   "source": [
    "# Three Ways to Call the function\n",
    "aor(5,10) "
   ]
  },
  {
   "cell_type": "code",
   "execution_count": 75,
   "id": "32bacc94-5759-4c12-b2cc-10706a7e28f4",
   "metadata": {},
   "outputs": [
    {
     "data": {
      "text/plain": [
       "50"
      ]
     },
     "execution_count": 75,
     "metadata": {},
     "output_type": "execute_result"
    }
   ],
   "source": [
    "aor(w=5,l=10)"
   ]
  },
  {
   "cell_type": "code",
   "execution_count": 166,
   "id": "ec888b03-9bcb-484d-a31a-9c83fdf3a5d0",
   "metadata": {},
   "outputs": [
    {
     "data": {
      "text/plain": [
       "50"
      ]
     },
     "execution_count": 166,
     "metadata": {},
     "output_type": "execute_result"
    }
   ],
   "source": [
    "aor(l=10,w=5)"
   ]
  },
  {
   "cell_type": "code",
   "execution_count": 168,
   "id": "30fa596a-3ee4-437e-9084-41ca84b58511",
   "metadata": {},
   "outputs": [
    {
     "data": {
      "text/plain": [
       "(6, 7, 8)"
      ]
     },
     "execution_count": 168,
     "metadata": {},
     "output_type": "execute_result"
    }
   ],
   "source": [
    "y=6,7,8\n",
    "y"
   ]
  },
  {
   "cell_type": "code",
   "execution_count": 171,
   "id": "418cf23a-98d9-4350-bd31-9bb752eecea5",
   "metadata": {},
   "outputs": [],
   "source": [
    "def Area(r,l,w):\n",
    "    aoc = 3.14*r*r\n",
    "    aor = l*w\n",
    "    # return print(f\"The Area of Circle is {aoc} \\nArea of Rectangle is {aor}\")\n",
    "    return [aoc,aor]"
   ]
  },
  {
   "cell_type": "code",
   "execution_count": 175,
   "id": "98b30495-7a27-4d32-9539-a86c161d5cab",
   "metadata": {},
   "outputs": [],
   "source": [
    "def Area(r,l,w):\n",
    "    aoc = 3.14*r*r\n",
    "    aor = l*w\n",
    "    # return print(f\"The Area of Circle is {aoc} \\nArea of Rectangle is {aor}\")\n",
    "    return {'Area of Circle ': aoc,\"Area of Rectangle\" : aor}"
   ]
  },
  {
   "cell_type": "code",
   "execution_count": 177,
   "id": "08945ec7-b62b-45ae-b121-8e4dd2f122eb",
   "metadata": {},
   "outputs": [
    {
     "data": {
      "text/plain": [
       "{'Area of Circle ': 314.0, 'Area of Rectangle': 100}"
      ]
     },
     "execution_count": 177,
     "metadata": {},
     "output_type": "execute_result"
    }
   ],
   "source": [
    "a=Area(r=10,l=20,w=5)\n",
    "a"
   ]
  },
  {
   "cell_type": "code",
   "execution_count": 179,
   "id": "5f656f61-bc72-44ab-a6a2-201a2408130d",
   "metadata": {},
   "outputs": [
    {
     "data": {
      "text/plain": [
       "dict"
      ]
     },
     "execution_count": 179,
     "metadata": {},
     "output_type": "execute_result"
    }
   ],
   "source": [
    "type(a)"
   ]
  },
  {
   "cell_type": "code",
   "execution_count": 185,
   "id": "a9214ded-8503-4b03-b9c1-094240afa486",
   "metadata": {},
   "outputs": [
    {
     "data": {
      "text/plain": [
       "314.0"
      ]
     },
     "execution_count": 185,
     "metadata": {},
     "output_type": "execute_result"
    }
   ],
   "source": [
    "a['Area of Circle ']"
   ]
  },
  {
   "cell_type": "code",
   "execution_count": 187,
   "id": "a13ea77f-8462-4944-9494-32f78c9a0742",
   "metadata": {},
   "outputs": [
    {
     "data": {
      "text/plain": [
       "'HyderabAAd 500008 Telangana'"
      ]
     },
     "execution_count": 187,
     "metadata": {},
     "output_type": "execute_result"
    }
   ],
   "source": [
    "t='HyderabAAd 500008 Telangana'\n",
    "t # Count Method in string"
   ]
  },
  {
   "cell_type": "code",
   "execution_count": 229,
   "id": "f0c70fa5-3349-4604-a4da-4d06016856e9",
   "metadata": {},
   "outputs": [],
   "source": [
    "def count_a(t):\n",
    "    d=t.lower()\n",
    "    return d.count('a')"
   ]
  },
  {
   "cell_type": "code",
   "execution_count": 231,
   "id": "637d4286-1b28-4710-95ad-481eb71cdded",
   "metadata": {},
   "outputs": [
    {
     "data": {
      "text/plain": [
       "6"
      ]
     },
     "execution_count": 231,
     "metadata": {},
     "output_type": "execute_result"
    }
   ],
   "source": [
    "count_a(t)"
   ]
  },
  {
   "cell_type": "code",
   "execution_count": 245,
   "id": "23c930e8-20bc-4cd5-b80a-a4ded41cf84c",
   "metadata": {},
   "outputs": [],
   "source": [
    "def count_no(t):\n",
    "    alpha = 0\n",
    "    num = 0\n",
    "    for i in t:\n",
    "        if i.isalpha():\n",
    "            alpha += 1\n",
    "        elif i.isnumeric():\n",
    "            num += 1\n",
    "    return {\"Number of alphabets\":alpha,\"Number of digits\":num}"
   ]
  },
  {
   "cell_type": "code",
   "execution_count": 247,
   "id": "d41ec54d-990e-4437-81a7-332121d8dd01",
   "metadata": {},
   "outputs": [
    {
     "data": {
      "text/plain": [
       "{'Number of alphabets': 19, 'Number of digits': 6}"
      ]
     },
     "execution_count": 247,
     "metadata": {},
     "output_type": "execute_result"
    }
   ],
   "source": [
    "count_no(t)"
   ]
  },
  {
   "cell_type": "code",
   "execution_count": null,
   "id": "2ab0f535-d1de-44c3-936d-f603d610f5ce",
   "metadata": {},
   "outputs": [],
   "source": []
  }
 ],
 "metadata": {
  "kernelspec": {
   "display_name": "Python 3 (ipykernel)",
   "language": "python",
   "name": "python3"
  },
  "language_info": {
   "codemirror_mode": {
    "name": "ipython",
    "version": 3
   },
   "file_extension": ".py",
   "mimetype": "text/x-python",
   "name": "python",
   "nbconvert_exporter": "python",
   "pygments_lexer": "ipython3",
   "version": "3.12.4"
  }
 },
 "nbformat": 4,
 "nbformat_minor": 5
}
