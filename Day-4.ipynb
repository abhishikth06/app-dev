{
 "cells": [
  {
   "cell_type": "raw",
   "id": "5ee170d3-da18-4375-8870-8078aebf637f",
   "metadata": {},
   "source": [
    "if condition1:\n",
    "    task1 block of code\n",
    "elif condition2:\n",
    "    task2 block of code\n",
    "elif condition3:\n",
    "    task3 block of code\n",
    "    .\n",
    "    .\n",
    "    .\n",
    "    .\n",
    "elif condition n:\n",
    "    task n block of code\n",
    "else:\n",
    "    task4 block of code"
   ]
  },
  {
   "cell_type": "code",
   "execution_count": 14,
   "id": "6bac5d9e-2737-4516-b720-bc8beb8d3827",
   "metadata": {},
   "outputs": [
    {
     "name": "stdout",
     "output_type": "stream",
     "text": [
      "9 is odd\n"
     ]
    }
   ],
   "source": [
    "x=9\n",
    "if x%2==0:\n",
    "    print(f\"{x} is even\")\n",
    "else:\n",
    "    print(f\"{x} is odd\")"
   ]
  },
  {
   "cell_type": "code",
   "execution_count": 17,
   "id": "c0d92939-ec0c-4c1c-9733-10f9d98ecfbe",
   "metadata": {},
   "outputs": [],
   "source": [
    "x=8"
   ]
  },
  {
   "cell_type": "code",
   "execution_count": 19,
   "id": "9216fcac-0450-4750-9e2d-c3e92899b5e8",
   "metadata": {},
   "outputs": [
    {
     "data": {
      "text/plain": [
       "True"
      ]
     },
     "execution_count": 19,
     "metadata": {},
     "output_type": "execute_result"
    }
   ],
   "source": [
    "x%2==0"
   ]
  },
  {
   "cell_type": "code",
   "execution_count": 8,
   "id": "52686546-4037-439e-a4a5-b932ca1e7009",
   "metadata": {},
   "outputs": [
    {
     "data": {
      "text/plain": [
       "False"
      ]
     },
     "execution_count": 8,
     "metadata": {},
     "output_type": "execute_result"
    }
   ],
   "source": [
    "7%2==0"
   ]
  },
  {
   "cell_type": "code",
   "execution_count": 21,
   "id": "b4a0867f-fed4-4af3-9d1c-a9c122149e7d",
   "metadata": {},
   "outputs": [
    {
     "data": {
      "text/plain": [
       "True"
      ]
     },
     "execution_count": 21,
     "metadata": {},
     "output_type": "execute_result"
    }
   ],
   "source": [
    "x%2==0"
   ]
  },
  {
   "cell_type": "code",
   "execution_count": 23,
   "id": "5aa2325b-b9e4-44f5-aef7-bf34d769cafa",
   "metadata": {},
   "outputs": [
    {
     "data": {
      "text/plain": [
       "14"
      ]
     },
     "execution_count": 23,
     "metadata": {},
     "output_type": "execute_result"
    }
   ],
   "source": [
    "x+6"
   ]
  },
  {
   "cell_type": "code",
   "execution_count": 27,
   "id": "947bcc1e-c2f0-4f11-8636-e84ad0582dad",
   "metadata": {},
   "outputs": [
    {
     "data": {
      "text/plain": [
       "True"
      ]
     },
     "execution_count": 27,
     "metadata": {},
     "output_type": "execute_result"
    }
   ],
   "source": [
    "bool(x+6) # Boolean of any +ve or -ve numbers and Strings the boolean vlaue is True"
   ]
  },
  {
   "cell_type": "code",
   "execution_count": 29,
   "id": "b9ee02d8-d6d0-45ae-a66b-025a0ce483ce",
   "metadata": {},
   "outputs": [
    {
     "data": {
      "text/plain": [
       "False"
      ]
     },
     "execution_count": 29,
     "metadata": {},
     "output_type": "execute_result"
    }
   ],
   "source": [
    "bool(0) #Boolean of 0 number is False"
   ]
  },
  {
   "cell_type": "code",
   "execution_count": 34,
   "id": "65e0fb11-c108-4fa1-9ff2-bcc185ffb8c8",
   "metadata": {},
   "outputs": [
    {
     "data": {
      "text/plain": [
       "True"
      ]
     },
     "execution_count": 34,
     "metadata": {},
     "output_type": "execute_result"
    }
   ],
   "source": [
    "bool(\"rajeev\")"
   ]
  },
  {
   "cell_type": "code",
   "execution_count": 54,
   "id": "92e8af37-0b5f-4636-ba7c-946432c4db4f",
   "metadata": {},
   "outputs": [
    {
     "name": "stdin",
     "output_type": "stream",
     "text": [
      "Enter any Number 15\n"
     ]
    },
    {
     "name": "stdout",
     "output_type": "stream",
     "text": [
      "+ve\n",
      "P\n"
     ]
    }
   ],
   "source": [
    "x=int(input(\"Enter any Number\"))\n",
    "if x>0:\n",
    "    print(\"+ve\")\n",
    "    if x>20:\n",
    "        print(\"M\")\n",
    "    elif x>10:\n",
    "        print(\"P\") \n",
    "    elif x<10:\n",
    "        print(\"K\")\n",
    "    else:\n",
    "        print(\"T\")\n",
    "elif x<0:\n",
    "    print(\"-ve\")\n",
    "    if x<-20:\n",
    "        print(\"Q\")\n",
    "    elif x>-10:\n",
    "        print(\"C\")\n",
    "    elif x>-30:\n",
    "        print(\"Z\")\n",
    "else:\n",
    "    print('Zero')"
   ]
  },
  {
   "cell_type": "code",
   "execution_count": 86,
   "id": "31e554af-4f61-40fc-9b86-7003068406fb",
   "metadata": {},
   "outputs": [
    {
     "name": "stdout",
     "output_type": "stream",
     "text": [
      "yes\n"
     ]
    }
   ],
   "source": [
    "x='telangana'\n",
    "x='Tiger'\n",
    "x='Tan'\n",
    "if x[0] == 't' or x[0]=='T':\n",
    "    print(\"yes\")\n",
    "else:\n",
    "    print(\"No\")"
   ]
  },
  {
   "cell_type": "code",
   "execution_count": 88,
   "id": "eb1aad37-2426-4d9a-97c9-becffa8f1a16",
   "metadata": {},
   "outputs": [
    {
     "name": "stdout",
     "output_type": "stream",
     "text": [
      "No\n"
     ]
    }
   ],
   "source": [
    "x='lion'\n",
    "x='mumbai'\n",
    "if x[0] == 't'or x[0]=='T':\n",
    "    print(\"yes\")\n",
    "else:\n",
    "    print(\"No\")"
   ]
  },
  {
   "cell_type": "code",
   "execution_count": 100,
   "id": "b3cb1365-c3e5-4e2f-af45-242a0aee75f9",
   "metadata": {},
   "outputs": [
    {
     "name": "stdin",
     "output_type": "stream",
     "text": [
      "Enter any string:  lion\n"
     ]
    },
    {
     "name": "stdout",
     "output_type": "stream",
     "text": [
      "No\n"
     ]
    }
   ],
   "source": [
    "x=input(\"Enter any string: \")\n",
    "if x[0] == 't' or x[0]=='T' or x[0]=='s' or x[0]=='S' or x[0]=='m' or x[0]==\"M\":\n",
    "    print(\"Yes\")\n",
    "else:\n",
    "    print(\"No\")"
   ]
  },
  {
   "cell_type": "code",
   "execution_count": 113,
   "id": "88b07d07-5cef-4bc4-b3fc-1e62d4f38190",
   "metadata": {},
   "outputs": [
    {
     "name": "stdin",
     "output_type": "stream",
     "text": [
      "Enter any string:  Tiger\n"
     ]
    },
    {
     "name": "stdout",
     "output_type": "stream",
     "text": [
      "Yes\n"
     ]
    }
   ],
   "source": [
    "x=input(\"Enter any string: \")\n",
    "if x[0].lower() == 't':\n",
    "    print(\"Yes\")\n",
    "else:\n",
    "    print(\"No\")"
   ]
  },
  {
   "cell_type": "code",
   "execution_count": 115,
   "id": "952524ba-1796-4cd0-9d12-233f69c824f4",
   "metadata": {},
   "outputs": [
    {
     "name": "stdin",
     "output_type": "stream",
     "text": [
      "Enter any string:  Mumbai\n"
     ]
    },
    {
     "name": "stdout",
     "output_type": "stream",
     "text": [
      "Yes\n"
     ]
    }
   ],
   "source": [
    "x=input(\"Enter any string: \")\n",
    "if x[0].lower() in ('t','s','m'):\n",
    "    print(\"Yes\")\n",
    "else:\n",
    "    print(\"No\")"
   ]
  },
  {
   "cell_type": "code",
   "execution_count": null,
   "id": "8baafb91-a0a3-4b49-acac-36ebcec92d22",
   "metadata": {},
   "outputs": [],
   "source": []
  }
 ],
 "metadata": {
  "kernelspec": {
   "display_name": "Python 3 (ipykernel)",
   "language": "python",
   "name": "python3"
  },
  "language_info": {
   "codemirror_mode": {
    "name": "ipython",
    "version": 3
   },
   "file_extension": ".py",
   "mimetype": "text/x-python",
   "name": "python",
   "nbconvert_exporter": "python",
   "pygments_lexer": "ipython3",
   "version": "3.12.4"
  }
 },
 "nbformat": 4,
 "nbformat_minor": 5
}
