{
 "cells": [
  {
   "cell_type": "code",
   "execution_count": 19,
   "id": "e962f151-2386-408e-9944-5d07d7564e19",
   "metadata": {},
   "outputs": [],
   "source": [
    "# Data Types\n",
    "# int \n",
    "# float\n",
    "# boolean\n",
    "# string \n",
    "# complex"
   ]
  },
  {
   "cell_type": "code",
   "execution_count": 94,
   "id": "6d1a52fa-e14c-469f-9336-f80c36376018",
   "metadata": {},
   "outputs": [
    {
     "data": {
      "text/plain": [
       "67"
      ]
     },
     "execution_count": 94,
     "metadata": {},
     "output_type": "execute_result"
    }
   ],
   "source": [
    "a =67\n",
    "a"
   ]
  },
  {
   "cell_type": "code",
   "execution_count": 96,
   "id": "0f3cc0b6-bef4-4e37-ab85-4c165863a7cf",
   "metadata": {},
   "outputs": [
    {
     "data": {
      "text/plain": [
       "int"
      ]
     },
     "execution_count": 96,
     "metadata": {},
     "output_type": "execute_result"
    }
   ],
   "source": [
    "type(a)"
   ]
  },
  {
   "cell_type": "code",
   "execution_count": 98,
   "id": "59fbcad8-00f8-478c-961b-a8be8b798ec7",
   "metadata": {},
   "outputs": [
    {
     "data": {
      "text/plain": [
       "12.22"
      ]
     },
     "execution_count": 98,
     "metadata": {},
     "output_type": "execute_result"
    }
   ],
   "source": [
    "b = 12.22\n",
    "b"
   ]
  },
  {
   "cell_type": "code",
   "execution_count": 102,
   "id": "f6109565-1c90-40ef-b40a-9eb1e9ddd5e1",
   "metadata": {},
   "outputs": [
    {
     "data": {
      "text/plain": [
       "float"
      ]
     },
     "execution_count": 102,
     "metadata": {},
     "output_type": "execute_result"
    }
   ],
   "source": [
    "type(b)"
   ]
  },
  {
   "cell_type": "code",
   "execution_count": 104,
   "id": "90c6fd65-6520-41a5-abd3-ebdd7bb0125f",
   "metadata": {},
   "outputs": [
    {
     "data": {
      "text/plain": [
       "'Rajeev'"
      ]
     },
     "execution_count": 104,
     "metadata": {},
     "output_type": "execute_result"
    }
   ],
   "source": [
    "c = \"Rajeev\"\n",
    "c"
   ]
  },
  {
   "cell_type": "code",
   "execution_count": 106,
   "id": "2b7a71d3-8293-412c-90db-1608186a51cb",
   "metadata": {},
   "outputs": [
    {
     "data": {
      "text/plain": [
       "str"
      ]
     },
     "execution_count": 106,
     "metadata": {},
     "output_type": "execute_result"
    }
   ],
   "source": [
    "type(c)"
   ]
  },
  {
   "cell_type": "code",
   "execution_count": 108,
   "id": "408028f9-efff-4afe-a2f8-932376c54749",
   "metadata": {},
   "outputs": [
    {
     "data": {
      "text/plain": [
       "True"
      ]
     },
     "execution_count": 108,
     "metadata": {},
     "output_type": "execute_result"
    }
   ],
   "source": [
    "d = True\n",
    "d"
   ]
  },
  {
   "cell_type": "code",
   "execution_count": 110,
   "id": "62e6e87a-4f6d-469b-8bd6-9ae1229069ac",
   "metadata": {},
   "outputs": [
    {
     "data": {
      "text/plain": [
       "bool"
      ]
     },
     "execution_count": 110,
     "metadata": {},
     "output_type": "execute_result"
    }
   ],
   "source": [
    "type(d)"
   ]
  },
  {
   "cell_type": "code",
   "execution_count": 1,
   "id": "3ce86475-3c73-4f0e-9e06-7af1e3ec6ff6",
   "metadata": {},
   "outputs": [
    {
     "name": "stdin",
     "output_type": "stream",
     "text": [
      "Enter integer 1:  10\n",
      "Enter integer 2:  2\n",
      "Enter integer 3:  3\n",
      "Enter integer 4:  4\n",
      "Enter integer 5:  5\n",
      "Enter integer 6:  6\n",
      "Enter integer 7:  1\n",
      "Enter integer 8:  19\n",
      "Enter integer 9:  12\n",
      "Enter integer 10:  15\n",
      "Enter string 1:  r\n",
      "Enter string 2:  a\n",
      "Enter string 3:  j\n",
      "Enter string 4:  e\n",
      "Enter string 5:  e\n",
      "Enter string 6:  v\n",
      "Enter string 7:  k\n",
      "Enter string 8:  a\n",
      "Enter string 9:  v\n",
      "Enter string 10:  a\n"
     ]
    },
    {
     "name": "stdout",
     "output_type": "stream",
     "text": [
      "\n",
      "Results:\n",
      "Sum of integers: 77\n",
      "Product of integers: 24624000\n",
      "Difference of integers: -57\n",
      "Concatenated strings: r a j e e v k a v a\n",
      "First and Last String concatenated: ra\n"
     ]
    }
   ],
   "source": [
    "# Assignment \n",
    "# 10 int\n",
    "# 10 strings\n",
    "\n",
    "integer1 = int(input(\"Enter integer 1: \"))\n",
    "integer2 = int(input(\"Enter integer 2: \"))\n",
    "integer3 = int(input(\"Enter integer 3: \"))\n",
    "integer4 = int(input(\"Enter integer 4: \"))\n",
    "integer5 = int(input(\"Enter integer 5: \"))\n",
    "integer6 = int(input(\"Enter integer 6: \"))\n",
    "integer7 = int(input(\"Enter integer 7: \"))\n",
    "integer8 = int(input(\"Enter integer 8: \"))\n",
    "integer9 = int(input(\"Enter integer 9: \"))\n",
    "integer10 = int(input(\"Enter integer 10: \"))\n",
    "\n",
    "# Taking input for 10 strings\n",
    "string1 = input(\"Enter string 1: \")\n",
    "string2 = input(\"Enter string 2: \")\n",
    "string3 = input(\"Enter string 3: \")\n",
    "string4 = input(\"Enter string 4: \")\n",
    "string5 = input(\"Enter string 5: \")\n",
    "string6 = input(\"Enter string 6: \")\n",
    "string7 = input(\"Enter string 7: \")\n",
    "string8 = input(\"Enter string 8: \")\n",
    "string9 = input(\"Enter string 9: \")\n",
    "string10 = input(\"Enter string 10: \")\n",
    "\n",
    "sum_of_integers = integer1 + integer2 + integer3 + integer4 + integer5 + integer6 + integer7 + integer8 + integer9 + integer10\n",
    "product_of_integers = integer1 * integer2 * integer3 * integer4 * integer5 * integer6 * integer7 * integer8 * integer9 * integer10 \n",
    "difference = integer1 - integer2 - integer3 - integer4 - integer5 - integer6 - integer7 - integer8 - integer9 - integer10\n",
    "\n",
    "concatenated_strings = string1 + \" \" + string2 + \" \" + string3 + \" \" + string4 + \" \" + string5 + \" \" + string6 + \" \" + string7 + \" \" + string8 + \" \" + string9 + \" \" + string10\n",
    "\n",
    "first_last_concatenation = string1 + string10\n",
    "\n",
    "# Displaying results\n",
    "print(\"\\nResults:\")\n",
    "print(f\"Sum of integers: {sum_of_integers}\")\n",
    "print(f\"Product of integers: {product_of_integers}\")\n",
    "print(f\"Difference of integers: {difference}\")\n",
    "print(f\"Concatenated strings: {concatenated_strings}\")\n",
    "print(f\"First and Last String concatenated: {first_last_concatenation}\")\n"
   ]
  },
  {
   "cell_type": "code",
   "execution_count": 5,
   "id": "1d98598e-0c8d-4210-b67c-5432904e76e3",
   "metadata": {},
   "outputs": [
    {
     "name": "stdout",
     "output_type": "stream",
     "text": [
      "10\n"
     ]
    },
    {
     "data": {
      "text/plain": [
       "int"
      ]
     },
     "execution_count": 5,
     "metadata": {},
     "output_type": "execute_result"
    }
   ],
   "source": [
    "a = 10\n",
    "print(a) #integer Data Type\n",
    "type(a)"
   ]
  },
  {
   "cell_type": "code",
   "execution_count": 7,
   "id": "42bc7145-4ba3-4ad3-bf71-ff26a1c5aa1e",
   "metadata": {},
   "outputs": [
    {
     "name": "stdout",
     "output_type": "stream",
     "text": [
      "10.5\n"
     ]
    },
    {
     "data": {
      "text/plain": [
       "float"
      ]
     },
     "execution_count": 7,
     "metadata": {},
     "output_type": "execute_result"
    }
   ],
   "source": [
    "b = 10.5\n",
    "print(b)\n",
    "type(b)"
   ]
  },
  {
   "cell_type": "code",
   "execution_count": 11,
   "id": "d401b0a7-3345-42fb-85af-5bc59aeb8359",
   "metadata": {},
   "outputs": [
    {
     "name": "stdout",
     "output_type": "stream",
     "text": [
      "String\n"
     ]
    },
    {
     "data": {
      "text/plain": [
       "str"
      ]
     },
     "execution_count": 11,
     "metadata": {},
     "output_type": "execute_result"
    }
   ],
   "source": [
    "c = \"String\"\n",
    "print(c)\n",
    "type(c)"
   ]
  },
  {
   "cell_type": "code",
   "execution_count": 13,
   "id": "49f9afc1-2ae3-4fda-8b44-182b2845b822",
   "metadata": {},
   "outputs": [
    {
     "name": "stdout",
     "output_type": "stream",
     "text": [
      "True\n"
     ]
    },
    {
     "data": {
      "text/plain": [
       "bool"
      ]
     },
     "execution_count": 13,
     "metadata": {},
     "output_type": "execute_result"
    }
   ],
   "source": [
    "d = True\n",
    "print(d)\n",
    "type(d)"
   ]
  },
  {
   "cell_type": "code",
   "execution_count": 15,
   "id": "9e69849e-5ad3-4255-9503-67ef31072aa5",
   "metadata": {},
   "outputs": [
    {
     "name": "stdout",
     "output_type": "stream",
     "text": [
      "(1+2j)\n"
     ]
    },
    {
     "data": {
      "text/plain": [
       "complex"
      ]
     },
     "execution_count": 15,
     "metadata": {},
     "output_type": "execute_result"
    }
   ],
   "source": [
    "e = 1+2j\n",
    "print(e)\n",
    "type(e)"
   ]
  },
  {
   "cell_type": "code",
   "execution_count": 27,
   "id": "d4419248-55a2-4db4-94b4-12a7c26f196f",
   "metadata": {},
   "outputs": [
    {
     "name": "stdout",
     "output_type": "stream",
     "text": [
      "1.0\n",
      "2\n",
      "(1+0j)\n",
      "<class 'float'>\n",
      "<class 'int'>\n",
      "<class 'complex'>\n"
     ]
    }
   ],
   "source": [
    "#Type Conversion\n",
    "x = 1\n",
    "y = 2.8\n",
    "z = 1j\n",
    "a = float(x)\n",
    "b = int(y)\n",
    "c = complex(x)\n",
    "\n",
    "print(a)\n",
    "print(b)\n",
    "print(c)\n",
    "\n",
    "print(type(a))\n",
    "print(type(b))\n",
    "print(type(c))"
   ]
  },
  {
   "cell_type": "code",
   "execution_count": 40,
   "id": "9851a8f7-7d37-4118-81de-776241726faf",
   "metadata": {},
   "outputs": [
    {
     "name": "stdout",
     "output_type": "stream",
     "text": [
      "76\n"
     ]
    }
   ],
   "source": [
    "import random\n",
    "print(random.randrange(1,100))"
   ]
  },
  {
   "cell_type": "code",
   "execution_count": 80,
   "id": "015b975b-9ebd-499e-b090-83c56af28a9e",
   "metadata": {},
   "outputs": [
    {
     "name": "stdout",
     "output_type": "stream",
     "text": [
      "R\n",
      "a\n",
      "j\n",
      "e\n",
      "e\n",
      "v\n",
      "The Lenght of the String is:  6\n",
      "Yes, 'aj' is present.\n"
     ]
    }
   ],
   "source": [
    "a = \"Rajeev\"\n",
    "for x in a:\n",
    "    print(x)\n",
    "\n",
    "print(\"The Lenght of the String is: \",len(a))\n",
    "if \"aj\" in a:\n",
    "  print(\"Yes, 'aj' is present.\")"
   ]
  },
  {
   "cell_type": "code",
   "execution_count": 92,
   "id": "3545f826-43f0-4ce3-ac41-5deba7f561b9",
   "metadata": {},
   "outputs": [
    {
     "name": "stdout",
     "output_type": "stream",
     "text": [
      "Hello\n",
      "llo World\n"
     ]
    }
   ],
   "source": [
    "b = \"Hello World\"\n",
    "print(b[:5])\n",
    "print(b[2:])"
   ]
  },
  {
   "cell_type": "code",
   "execution_count": null,
   "id": "46d70aaf-916b-4576-9fbb-7801fffd3c8a",
   "metadata": {},
   "outputs": [],
   "source": []
  },
  {
   "cell_type": "markdown",
   "id": "e5a5aad0-15f2-4ce0-b492-1fe0496f2a77",
   "metadata": {},
   "source": [
    "#  Arithmetic Operators"
   ]
  },
  {
   "cell_type": "markdown",
   "id": "078d5d2c-e5b6-46a3-9823-db683fd5801d",
   "metadata": {},
   "source": [
    "## Addition(+)\n",
    "## Subtraction(-)\n",
    "## Multiplication (*)\n",
    "## Division (/)\n",
    "## Modulus ---> Remainder (%)\n",
    "## Exponentiation (**)---> Power\n",
    "## Floor division (//)"
   ]
  },
  {
   "cell_type": "code",
   "execution_count": 91,
   "id": "0c94c937-0f4f-489a-98fa-a7e4e58486d4",
   "metadata": {},
   "outputs": [],
   "source": [
    "a = 109\n",
    "b = 3"
   ]
  },
  {
   "cell_type": "code",
   "execution_count": 50,
   "id": "f34900ea-ad31-4a41-bad3-1befa7820cf4",
   "metadata": {},
   "outputs": [
    {
     "data": {
      "text/plain": [
       "112"
      ]
     },
     "execution_count": 50,
     "metadata": {},
     "output_type": "execute_result"
    }
   ],
   "source": [
    "c = a + b\n",
    "c"
   ]
  },
  {
   "cell_type": "code",
   "execution_count": 52,
   "id": "23a376ea-e2be-46c3-9e73-01241230c541",
   "metadata": {},
   "outputs": [
    {
     "data": {
      "text/plain": [
       "int"
      ]
     },
     "execution_count": 52,
     "metadata": {},
     "output_type": "execute_result"
    }
   ],
   "source": [
    "type(c)"
   ]
  },
  {
   "cell_type": "code",
   "execution_count": 56,
   "id": "738fa1c5-8616-4dd2-b49c-265213edea61",
   "metadata": {},
   "outputs": [
    {
     "data": {
      "text/plain": [
       "106"
      ]
     },
     "execution_count": 56,
     "metadata": {},
     "output_type": "execute_result"
    }
   ],
   "source": [
    "d = a -b\n",
    "d"
   ]
  },
  {
   "cell_type": "code",
   "execution_count": 58,
   "id": "c5339672-b11f-4953-ae84-02a1b045d5b7",
   "metadata": {},
   "outputs": [
    {
     "data": {
      "text/plain": [
       "int"
      ]
     },
     "execution_count": 58,
     "metadata": {},
     "output_type": "execute_result"
    }
   ],
   "source": [
    "type(d)"
   ]
  },
  {
   "cell_type": "code",
   "execution_count": 60,
   "id": "43443dd3-562e-48c8-9aaf-b62d00feb69e",
   "metadata": {},
   "outputs": [
    {
     "data": {
      "text/plain": [
       "327"
      ]
     },
     "execution_count": 60,
     "metadata": {},
     "output_type": "execute_result"
    }
   ],
   "source": [
    "d = a * b\n",
    "d"
   ]
  },
  {
   "cell_type": "code",
   "execution_count": 62,
   "id": "ae4e6476-6a19-4b90-93c1-8f04d80e0c3a",
   "metadata": {},
   "outputs": [
    {
     "data": {
      "text/plain": [
       "int"
      ]
     },
     "execution_count": 62,
     "metadata": {},
     "output_type": "execute_result"
    }
   ],
   "source": [
    "type(d)"
   ]
  },
  {
   "cell_type": "code",
   "execution_count": 64,
   "id": "c28796ac-92bf-406e-ac9c-1130f1032afd",
   "metadata": {},
   "outputs": [
    {
     "data": {
      "text/plain": [
       "36.333333333333336"
      ]
     },
     "execution_count": 64,
     "metadata": {},
     "output_type": "execute_result"
    }
   ],
   "source": [
    "d = a / b\n",
    "d"
   ]
  },
  {
   "cell_type": "code",
   "execution_count": 66,
   "id": "96860ba1-3457-42b8-81c6-1e6094b69ccb",
   "metadata": {},
   "outputs": [
    {
     "data": {
      "text/plain": [
       "float"
      ]
     },
     "execution_count": 66,
     "metadata": {},
     "output_type": "execute_result"
    }
   ],
   "source": [
    "type(d)"
   ]
  },
  {
   "cell_type": "code",
   "execution_count": 68,
   "id": "a765cd49-0a1d-4f2a-919b-7274b2a98cb5",
   "metadata": {},
   "outputs": [
    {
     "data": {
      "text/plain": [
       "1"
      ]
     },
     "execution_count": 68,
     "metadata": {},
     "output_type": "execute_result"
    }
   ],
   "source": [
    "d = a % b\n",
    "d"
   ]
  },
  {
   "cell_type": "code",
   "execution_count": 70,
   "id": "92ad7940-0471-4085-92b0-3588b067b1a9",
   "metadata": {},
   "outputs": [
    {
     "data": {
      "text/plain": [
       "int"
      ]
     },
     "execution_count": 70,
     "metadata": {},
     "output_type": "execute_result"
    }
   ],
   "source": [
    "type(d)"
   ]
  },
  {
   "cell_type": "code",
   "execution_count": 72,
   "id": "d686adf9-a009-4667-865e-c19bef22925a",
   "metadata": {},
   "outputs": [
    {
     "data": {
      "text/plain": [
       "1295029"
      ]
     },
     "execution_count": 72,
     "metadata": {},
     "output_type": "execute_result"
    }
   ],
   "source": [
    "d = a ** b\n",
    "d"
   ]
  },
  {
   "cell_type": "code",
   "execution_count": 74,
   "id": "8125e1fa-144b-4151-be22-88310b45288d",
   "metadata": {},
   "outputs": [
    {
     "data": {
      "text/plain": [
       "int"
      ]
     },
     "execution_count": 74,
     "metadata": {},
     "output_type": "execute_result"
    }
   ],
   "source": [
    "type(d)"
   ]
  },
  {
   "cell_type": "code",
   "execution_count": 76,
   "id": "aa230736-8b7a-453a-b420-76b303393bfb",
   "metadata": {},
   "outputs": [
    {
     "data": {
      "text/plain": [
       "36"
      ]
     },
     "execution_count": 76,
     "metadata": {},
     "output_type": "execute_result"
    }
   ],
   "source": [
    "d = a // b\n",
    "d"
   ]
  },
  {
   "cell_type": "code",
   "execution_count": 46,
   "id": "8364af2d-dd30-43aa-8215-0619334a85b9",
   "metadata": {},
   "outputs": [
    {
     "data": {
      "text/plain": [
       "int"
      ]
     },
     "execution_count": 46,
     "metadata": {},
     "output_type": "execute_result"
    }
   ],
   "source": [
    "type(d)"
   ]
  },
  {
   "cell_type": "code",
   "execution_count": null,
   "id": "22f544cf-6a24-43c4-948f-ab81225f2b1d",
   "metadata": {},
   "outputs": [],
   "source": []
  },
  {
   "cell_type": "markdown",
   "id": "6545e2b0-4aef-4cdf-a008-1996f1a6b8e8",
   "metadata": {},
   "source": [
    "# Comparison Operators"
   ]
  },
  {
   "cell_type": "markdown",
   "id": "548db924-5a5b-4962-940d-ff9af4570525",
   "metadata": {},
   "source": [
    "# > < >= <= == !="
   ]
  },
  {
   "cell_type": "code",
   "execution_count": null,
   "id": "453aa7e1-b7fb-471d-835a-81abc3d4f291",
   "metadata": {},
   "outputs": [],
   "source": [
    "a = 45\n",
    "b = 32"
   ]
  },
  {
   "cell_type": "code",
   "execution_count": 97,
   "id": "68b313f1-5f2d-41b9-8f11-7b1aa37ac318",
   "metadata": {},
   "outputs": [
    {
     "data": {
      "text/plain": [
       "True"
      ]
     },
     "execution_count": 97,
     "metadata": {},
     "output_type": "execute_result"
    }
   ],
   "source": [
    "a>b"
   ]
  },
  {
   "cell_type": "code",
   "execution_count": 99,
   "id": "1327c1b3-a7f6-40b5-a6a7-ab6c3266ba6a",
   "metadata": {},
   "outputs": [
    {
     "data": {
      "text/plain": [
       "True"
      ]
     },
     "execution_count": 99,
     "metadata": {},
     "output_type": "execute_result"
    }
   ],
   "source": [
    "a>=b"
   ]
  },
  {
   "cell_type": "code",
   "execution_count": 101,
   "id": "6b2617be-0331-49ef-b911-5ab6d5f0ff4b",
   "metadata": {},
   "outputs": [
    {
     "data": {
      "text/plain": [
       "False"
      ]
     },
     "execution_count": 101,
     "metadata": {},
     "output_type": "execute_result"
    }
   ],
   "source": [
    "a<b"
   ]
  },
  {
   "cell_type": "code",
   "execution_count": 103,
   "id": "4c012c5d-018b-49c9-95bf-d4de84ef43a2",
   "metadata": {},
   "outputs": [
    {
     "data": {
      "text/plain": [
       "False"
      ]
     },
     "execution_count": 103,
     "metadata": {},
     "output_type": "execute_result"
    }
   ],
   "source": [
    "a<=b"
   ]
  },
  {
   "cell_type": "code",
   "execution_count": 107,
   "id": "f9d3eb89-6fb1-4963-afc4-bc768483b7f3",
   "metadata": {},
   "outputs": [
    {
     "data": {
      "text/plain": [
       "False"
      ]
     },
     "execution_count": 107,
     "metadata": {},
     "output_type": "execute_result"
    }
   ],
   "source": [
    "a==b"
   ]
  },
  {
   "cell_type": "code",
   "execution_count": 109,
   "id": "3a4a2e87-1669-4893-9309-1de106405037",
   "metadata": {},
   "outputs": [
    {
     "data": {
      "text/plain": [
       "True"
      ]
     },
     "execution_count": 109,
     "metadata": {},
     "output_type": "execute_result"
    }
   ],
   "source": [
    "a!=b"
   ]
  },
  {
   "cell_type": "code",
   "execution_count": null,
   "id": "c4d95f57-bbcc-435c-9d5b-54b2db65cbe8",
   "metadata": {},
   "outputs": [],
   "source": []
  },
  {
   "cell_type": "markdown",
   "id": "126099ca-8f9c-4b3e-bb27-270738f08b98",
   "metadata": {},
   "source": [
    "# Logical Operators"
   ]
  },
  {
   "cell_type": "markdown",
   "id": "761abdd1-7b83-4c52-8178-4f6e89e3432b",
   "metadata": {},
   "source": [
    "# and\n",
    "# or\n",
    "# not"
   ]
  },
  {
   "cell_type": "code",
   "execution_count": 133,
   "id": "4ec11649-27bc-40db-b96b-e8dbbfc2466b",
   "metadata": {},
   "outputs": [],
   "source": [
    "a = 50"
   ]
  },
  {
   "cell_type": "code",
   "execution_count": 135,
   "id": "1a35aeb1-cbda-4702-a8b8-b62f5f69319a",
   "metadata": {},
   "outputs": [],
   "source": [
    "b = 45"
   ]
  },
  {
   "cell_type": "code",
   "execution_count": 137,
   "id": "656cd166-8182-4353-a48e-c71df070dccb",
   "metadata": {},
   "outputs": [
    {
     "data": {
      "text/plain": [
       "True"
      ]
     },
     "execution_count": 137,
     "metadata": {},
     "output_type": "execute_result"
    }
   ],
   "source": [
    "(a>b)"
   ]
  },
  {
   "cell_type": "code",
   "execution_count": 139,
   "id": "615b941a-13c1-45fa-9fda-df8fa232b340",
   "metadata": {},
   "outputs": [
    {
     "data": {
      "text/plain": [
       "False"
      ]
     },
     "execution_count": 139,
     "metadata": {},
     "output_type": "execute_result"
    }
   ],
   "source": [
    "a>100"
   ]
  },
  {
   "cell_type": "code",
   "execution_count": 141,
   "id": "4c0c1bba-9c37-4fa6-a8de-cc38e1b40454",
   "metadata": {},
   "outputs": [
    {
     "data": {
      "text/plain": [
       "False"
      ]
     },
     "execution_count": 141,
     "metadata": {},
     "output_type": "execute_result"
    }
   ],
   "source": [
    "(a>b) and a>100"
   ]
  },
  {
   "cell_type": "code",
   "execution_count": 169,
   "id": "e0519765-bd95-4310-9c5d-a4873df2be12",
   "metadata": {},
   "outputs": [
    {
     "data": {
      "text/plain": [
       "25"
      ]
     },
     "execution_count": 169,
     "metadata": {},
     "output_type": "execute_result"
    }
   ],
   "source": [
    "d"
   ]
  },
  {
   "cell_type": "code",
   "execution_count": 163,
   "id": "2d71574a-e6c1-48ff-a411-a9a547dc781a",
   "metadata": {},
   "outputs": [
    {
     "data": {
      "text/plain": [
       "True"
      ]
     },
     "execution_count": 163,
     "metadata": {},
     "output_type": "execute_result"
    }
   ],
   "source": [
    "d>10"
   ]
  },
  {
   "cell_type": "code",
   "execution_count": 165,
   "id": "02f11e13-7987-4b66-b842-92c31db6f19e",
   "metadata": {},
   "outputs": [
    {
     "data": {
      "text/plain": [
       "True"
      ]
     },
     "execution_count": 165,
     "metadata": {},
     "output_type": "execute_result"
    }
   ],
   "source": [
    "d<30"
   ]
  },
  {
   "cell_type": "code",
   "execution_count": 167,
   "id": "89a98777-b1d4-45e6-b271-566dda21bcd3",
   "metadata": {},
   "outputs": [
    {
     "data": {
      "text/plain": [
       "True"
      ]
     },
     "execution_count": 167,
     "metadata": {},
     "output_type": "execute_result"
    }
   ],
   "source": [
    "d>10 and d<30"
   ]
  },
  {
   "cell_type": "code",
   "execution_count": 171,
   "id": "3bf2e347-07e1-4c12-a18a-f200ecbe0e6e",
   "metadata": {},
   "outputs": [],
   "source": [
    "# Grade\n",
    "d = 8.4"
   ]
  },
  {
   "cell_type": "code",
   "execution_count": 173,
   "id": "e9384fac-128b-452c-9ebd-18174115efbe",
   "metadata": {},
   "outputs": [
    {
     "data": {
      "text/plain": [
       "True"
      ]
     },
     "execution_count": 173,
     "metadata": {},
     "output_type": "execute_result"
    }
   ],
   "source": [
    "d>=8.1 and d<=9.0"
   ]
  },
  {
   "cell_type": "code",
   "execution_count": 175,
   "id": "07a1489a-3937-400d-8629-a2f0e11d0a3a",
   "metadata": {},
   "outputs": [
    {
     "data": {
      "text/plain": [
       "True"
      ]
     },
     "execution_count": 175,
     "metadata": {},
     "output_type": "execute_result"
    }
   ],
   "source": [
    "a>b"
   ]
  },
  {
   "cell_type": "code",
   "execution_count": 187,
   "id": "420b48fd-a151-4778-9672-6a3439b63a46",
   "metadata": {},
   "outputs": [
    {
     "data": {
      "text/plain": [
       "False"
      ]
     },
     "execution_count": 187,
     "metadata": {},
     "output_type": "execute_result"
    }
   ],
   "source": [
    "not a>b"
   ]
  },
  {
   "cell_type": "code",
   "execution_count": null,
   "id": "e890bf10-9aa8-4acf-9fcc-df1de52c55f0",
   "metadata": {},
   "outputs": [],
   "source": []
  },
  {
   "cell_type": "code",
   "execution_count": 191,
   "id": "42c4ee36-89c0-4cc6-8e62-9bf5a7a037db",
   "metadata": {},
   "outputs": [],
   "source": [
    "grade = 7.4 "
   ]
  },
  {
   "cell_type": "code",
   "execution_count": 193,
   "id": "98f83922-f075-4fb0-969f-a6294500bdf4",
   "metadata": {},
   "outputs": [
    {
     "data": {
      "text/plain": [
       "False"
      ]
     },
     "execution_count": 193,
     "metadata": {},
     "output_type": "execute_result"
    }
   ],
   "source": [
    "grade > 9.0 and grade <= 10.0"
   ]
  },
  {
   "cell_type": "code",
   "execution_count": 195,
   "id": "a3102de6-196f-4648-82c7-0bacde792ef7",
   "metadata": {},
   "outputs": [
    {
     "data": {
      "text/plain": [
       "False"
      ]
     },
     "execution_count": 195,
     "metadata": {},
     "output_type": "execute_result"
    }
   ],
   "source": [
    "grade > 8.0 and grade <= 9.0"
   ]
  },
  {
   "cell_type": "code",
   "execution_count": 197,
   "id": "8e900ece-e968-4a0b-9278-86ec40871261",
   "metadata": {},
   "outputs": [
    {
     "data": {
      "text/plain": [
       "True"
      ]
     },
     "execution_count": 197,
     "metadata": {},
     "output_type": "execute_result"
    }
   ],
   "source": [
    "grade > 7.0 and grade <= 8.0"
   ]
  },
  {
   "cell_type": "code",
   "execution_count": 199,
   "id": "05596c13-46c1-46c9-bc0d-2f633186d350",
   "metadata": {},
   "outputs": [
    {
     "data": {
      "text/plain": [
       "False"
      ]
     },
     "execution_count": 199,
     "metadata": {},
     "output_type": "execute_result"
    }
   ],
   "source": [
    "grade > 6.0 and grade <= 7.0"
   ]
  },
  {
   "cell_type": "code",
   "execution_count": 203,
   "id": "237b5dd9-bdcf-4154-9ec6-879b1d9b4d41",
   "metadata": {},
   "outputs": [
    {
     "data": {
      "text/plain": [
       "False"
      ]
     },
     "execution_count": 203,
     "metadata": {},
     "output_type": "execute_result"
    }
   ],
   "source": [
    "grade > 5.0 and grade <= 6.0"
   ]
  },
  {
   "cell_type": "code",
   "execution_count": null,
   "id": "ac2141ec-30a4-4cff-bd4f-406b7d6f138e",
   "metadata": {},
   "outputs": [],
   "source": []
  },
  {
   "cell_type": "code",
   "execution_count": null,
   "id": "a227f93a-8d0a-4be4-a5e4-5c6405ec65cc",
   "metadata": {},
   "outputs": [],
   "source": []
  },
  {
   "cell_type": "code",
   "execution_count": null,
   "id": "f5e0e780-1ddd-4f51-9901-4fd8d01e578f",
   "metadata": {},
   "outputs": [],
   "source": []
  },
  {
   "cell_type": "code",
   "execution_count": null,
   "id": "f84b8c41-1740-4eae-9f43-1b208b996057",
   "metadata": {},
   "outputs": [],
   "source": []
  },
  {
   "cell_type": "code",
   "execution_count": null,
   "id": "82fa9365-4d34-4f3f-82e9-84c71a530e84",
   "metadata": {},
   "outputs": [],
   "source": []
  },
  {
   "cell_type": "code",
   "execution_count": null,
   "id": "9dd10b89-ac82-48ac-956f-09b589861e46",
   "metadata": {},
   "outputs": [],
   "source": []
  },
  {
   "cell_type": "code",
   "execution_count": 210,
   "id": "4495bd0e-9c6b-4a14-acc2-d2d6c0919936",
   "metadata": {},
   "outputs": [
    {
     "name": "stdin",
     "output_type": "stream",
     "text": [
      "Enter the CGPA:  9.1\n"
     ]
    },
    {
     "name": "stdout",
     "output_type": "stream",
     "text": [
      "You Got A+ Grade\n"
     ]
    }
   ],
   "source": [
    "grade = float(input(\"Enter the CGPA: \"))\n",
    "\n",
    "if(grade > 9.0 and grade <= 10.0):\n",
    "    print(\"You Got A+ Grade\")\n",
    "elif(grade > 8.0 and grade <= 9.0):\n",
    "    print(\"You Got A Grade\")\n",
    "elif(grade > 7.0 and grade <= 8.0):\n",
    "    print(\"You Got B+ Grade\")\n",
    "elif(grade > 6.0 and grade <= 7.0):\n",
    "    print(\"You Got B Grade\")\n",
    "elif(grade > 5.0 and grade <= 6.0):\n",
    "    print(\"You Got C Grade\")\n",
    "else:\n",
    "    print(\"You Failed\")"
   ]
  },
  {
   "cell_type": "code",
   "execution_count": null,
   "id": "b3664450-32eb-4621-bb5d-3af90121f3a6",
   "metadata": {},
   "outputs": [],
   "source": []
  },
  {
   "cell_type": "code",
   "execution_count": null,
   "id": "0fde611b-fdba-45ec-b344-fde6097ea983",
   "metadata": {},
   "outputs": [],
   "source": []
  },
  {
   "cell_type": "code",
   "execution_count": null,
   "id": "fa858d10-3e97-4e3c-addf-91e05bacddb1",
   "metadata": {},
   "outputs": [],
   "source": []
  },
  {
   "cell_type": "code",
   "execution_count": null,
   "id": "de6345de-96c3-4991-af31-90087a599869",
   "metadata": {},
   "outputs": [],
   "source": []
  }
 ],
 "metadata": {
  "kernelspec": {
   "display_name": "Python 3 (ipykernel)",
   "language": "python",
   "name": "python3"
  },
  "language_info": {
   "codemirror_mode": {
    "name": "ipython",
    "version": 3
   },
   "file_extension": ".py",
   "mimetype": "text/x-python",
   "name": "python",
   "nbconvert_exporter": "python",
   "pygments_lexer": "ipython3",
   "version": "3.12.4"
  }
 },
 "nbformat": 4,
 "nbformat_minor": 5
}
