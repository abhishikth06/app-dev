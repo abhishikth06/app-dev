{
 "cells": [
  {
   "cell_type": "code",
   "execution_count": 1,
   "id": "065a78fd-991c-4926-acdd-1cedb1a1e832",
   "metadata": {},
   "outputs": [
    {
     "name": "stdout",
     "output_type": "stream",
     "text": [
      "data\n",
      "data\n",
      "data\n",
      "data\n",
      "data\n"
     ]
    }
   ],
   "source": [
    "print(\"data\")\n",
    "print(\"data\")\n",
    "print(\"data\")\n",
    "print(\"data\")\n",
    "print(\"data\")"
   ]
  },
  {
   "cell_type": "markdown",
   "id": "3d4c0f2e-3181-4f5a-800a-0448480e2814",
   "metadata": {},
   "source": [
    "## For Loop And While Loop"
   ]
  },
  {
   "cell_type": "code",
   "execution_count": 5,
   "id": "9da097dc-462c-471b-8013-3245b8aff4dc",
   "metadata": {},
   "outputs": [
    {
     "name": "stdout",
     "output_type": "stream",
     "text": [
      "Data\n",
      "Data\n",
      "Data\n",
      "Data\n",
      "Data\n"
     ]
    }
   ],
   "source": [
    "for i in range(1,6):\n",
    "    print(\"Data\") #For Loop"
   ]
  },
  {
   "cell_type": "code",
   "execution_count": 13,
   "id": "372cc9a4-4bf2-4547-ba3e-0cbe80f39d44",
   "metadata": {},
   "outputs": [
    {
     "name": "stdout",
     "output_type": "stream",
     "text": [
      "Yes\n",
      "Yes\n",
      "Yes\n",
      "Yes\n",
      "Yes\n"
     ]
    }
   ],
   "source": [
    "x=5\n",
    "while x<10:\n",
    "    print(\"Yes\")\n",
    "    x=x+1"
   ]
  },
  {
   "cell_type": "code",
   "execution_count": 15,
   "id": "9a052403-833a-47aa-b7c0-99cdfebafc60",
   "metadata": {},
   "outputs": [
    {
     "name": "stdout",
     "output_type": "stream",
     "text": [
      "Yes\n",
      "Yes\n",
      "Yes\n",
      "Yes\n",
      "Yes\n"
     ]
    }
   ],
   "source": [
    "x=100\n",
    "while x<600:\n",
    "    print(\"Yes\")\n",
    "    x=x+100"
   ]
  },
  {
   "cell_type": "code",
   "execution_count": 7,
   "id": "22ad00a5-84a9-4d04-9bce-b6f6c40ed572",
   "metadata": {},
   "outputs": [],
   "source": [
    "dollars=[40,20,80,50,30,60]"
   ]
  },
  {
   "cell_type": "code",
   "execution_count": 9,
   "id": "9e3a171e-1e5a-4e51-a6f8-1ffc4b808bd5",
   "metadata": {},
   "outputs": [
    {
     "data": {
      "text/plain": [
       "[40, 20, 80, 50, 30, 60]"
      ]
     },
     "execution_count": 9,
     "metadata": {},
     "output_type": "execute_result"
    }
   ],
   "source": [
    "dollars"
   ]
  },
  {
   "cell_type": "code",
   "execution_count": 25,
   "id": "f267bb4f-17b6-4ea8-9000-4b92ed876a80",
   "metadata": {},
   "outputs": [
    {
     "name": "stdout",
     "output_type": "stream",
     "text": [
      "40\n",
      "20\n",
      "80\n",
      "50\n",
      "30\n",
      "60\n"
     ]
    }
   ],
   "source": [
    "for i in range(0,len(dollars)):\n",
    "    print(dollars[i])"
   ]
  },
  {
   "cell_type": "code",
   "execution_count": 41,
   "id": "768d8f5e-797b-486c-b8cb-8d11c43c114d",
   "metadata": {},
   "outputs": [
    {
     "name": "stdout",
     "output_type": "stream",
     "text": [
      "$ 40\n",
      "$ 20\n",
      "$ 80\n",
      "$ 50\n",
      "$ 30\n",
      "$ 60\n"
     ]
    }
   ],
   "source": [
    "for i in dollars:\n",
    "    print(\"$\",i)"
   ]
  },
  {
   "cell_type": "code",
   "execution_count": 43,
   "id": "52ddb0b2-1d71-489a-9d30-5a1f10a71ad4",
   "metadata": {},
   "outputs": [
    {
     "name": "stdout",
     "output_type": "stream",
     "text": [
      "₹ 3440\n",
      "₹ 1720\n",
      "₹ 6880\n",
      "₹ 4300\n",
      "₹ 2580\n",
      "₹ 5160\n"
     ]
    }
   ],
   "source": [
    "for i in dollars:\n",
    "    print(\"₹\",i*86)"
   ]
  },
  {
   "cell_type": "code",
   "execution_count": 57,
   "id": "e073b5f9-6f65-4b65-b76f-406969de0d0e",
   "metadata": {},
   "outputs": [
    {
     "name": "stdout",
     "output_type": "stream",
     "text": [
      "₹ [3440, 1720, 6880, 4300, 2580, 5160]\n"
     ]
    }
   ],
   "source": [
    "ruppe=[]\n",
    "for i in dollars:\n",
    "    ruppe.append(i * 86)\n",
    "print(\"₹\",ruppe)"
   ]
  },
  {
   "cell_type": "code",
   "execution_count": 53,
   "id": "f7b28f69-4584-4ea2-aeca-d8feb0ae4887",
   "metadata": {},
   "outputs": [
    {
     "data": {
      "text/plain": [
       "[3440, 1720, 6880, 4300, 2580, 5160]"
      ]
     },
     "execution_count": 53,
     "metadata": {},
     "output_type": "execute_result"
    }
   ],
   "source": [
    "ruppe"
   ]
  },
  {
   "cell_type": "code",
   "execution_count": 61,
   "id": "0358e6f0-fda4-40ec-af02-795e1fa6b3c7",
   "metadata": {},
   "outputs": [
    {
     "data": {
      "text/plain": [
       "[40, 20, 80, 50, 30, 60]"
      ]
     },
     "execution_count": 61,
     "metadata": {},
     "output_type": "execute_result"
    }
   ],
   "source": [
    "dollars"
   ]
  },
  {
   "cell_type": "code",
   "execution_count": 63,
   "id": "3f50cd80-2aca-4263-a604-3bcdfbda074d",
   "metadata": {},
   "outputs": [
    {
     "data": {
      "text/plain": [
       "[31, 45, 66, 33, 90, 78, 67, 87, 89, 93, 25, 59, 9, 81]"
      ]
     },
     "execution_count": 63,
     "metadata": {},
     "output_type": "execute_result"
    }
   ],
   "source": [
    "num=[31,45,66,33,90,78,67,87,89,93,25,59,9,81]\n",
    "num"
   ]
  },
  {
   "cell_type": "code",
   "execution_count": 67,
   "id": "02248d38-e7a9-4fa2-ab22-aaf7f5866cb5",
   "metadata": {},
   "outputs": [
    {
     "data": {
      "text/plain": [
       "14"
      ]
     },
     "execution_count": 67,
     "metadata": {},
     "output_type": "execute_result"
    }
   ],
   "source": [
    "len(num)"
   ]
  },
  {
   "cell_type": "code",
   "execution_count": 91,
   "id": "1cd47ce3-ad61-4e83-9871-30b01882c0ba",
   "metadata": {},
   "outputs": [
    {
     "name": "stdout",
     "output_type": "stream",
     "text": [
      "Even List:  [66, 90, 78]\n",
      "Odd List:  [31, 45, 33, 67, 87, 89, 93, 25, 59, 9, 81]\n"
     ]
    }
   ],
   "source": [
    "even=[]\n",
    "odd=[]\n",
    "for i in num:\n",
    "    if i%2==0:\n",
    "        even.append(i)\n",
    "    else:\n",
    "        odd.append(i)\n",
    "# even.sort()\n",
    "# odd.sort()\n",
    "print(\"Even List: \",even)\n",
    "print(\"Odd List: \",odd)"
   ]
  },
  {
   "cell_type": "code",
   "execution_count": 97,
   "id": "fa35e39e-c3fd-48af-8f26-c33345281687",
   "metadata": {},
   "outputs": [],
   "source": [
    "num1=[39,45,66,93,90,78,67,87,89,93,25,59,49,91]"
   ]
  },
  {
   "cell_type": "code",
   "execution_count": 99,
   "id": "3f037248-ef97-4217-85eb-2173f6bd2099",
   "metadata": {},
   "outputs": [
    {
     "data": {
      "text/plain": [
       "[39, 45, 66, 93, 90, 78, 67, 87, 89, 93, 25, 59, 49, 91]"
      ]
     },
     "execution_count": 99,
     "metadata": {},
     "output_type": "execute_result"
    }
   ],
   "source": [
    "num1"
   ]
  },
  {
   "cell_type": "code",
   "execution_count": 103,
   "id": "03759462-1b5a-4ae7-ab49-55e289d67ee4",
   "metadata": {},
   "outputs": [],
   "source": [
    "#Replace 9 with 1"
   ]
  },
  {
   "cell_type": "code",
   "execution_count": null,
   "id": "2c4bc57e-393b-466e-9666-ec7cbaefe752",
   "metadata": {},
   "outputs": [],
   "source": []
  },
  {
   "cell_type": "code",
   "execution_count": 141,
   "id": "109884d4-7246-47eb-842a-3aab02a2f9b5",
   "metadata": {},
   "outputs": [],
   "source": [
    "h=[]\n",
    "for i in num:\n",
    "    a = str(i)\n",
    "    b=a.replace('9','1')\n",
    "    c=int(b)\n",
    "    h.append(c)"
   ]
  },
  {
   "cell_type": "code",
   "execution_count": 143,
   "id": "5d78fe84-def8-44c1-af2f-292ab58addb3",
   "metadata": {},
   "outputs": [
    {
     "data": {
      "text/plain": [
       "[31, 45, 66, 33, 10, 78, 67, 87, 81, 13, 25, 51, 1, 81]"
      ]
     },
     "execution_count": 143,
     "metadata": {},
     "output_type": "execute_result"
    }
   ],
   "source": [
    "h"
   ]
  },
  {
   "cell_type": "code",
   "execution_count": null,
   "id": "d57f3f3e-f968-44ff-b58d-fd77d080ce81",
   "metadata": {},
   "outputs": [],
   "source": []
  }
 ],
 "metadata": {
  "kernelspec": {
   "display_name": "Python 3 (ipykernel)",
   "language": "python",
   "name": "python3"
  },
  "language_info": {
   "codemirror_mode": {
    "name": "ipython",
    "version": 3
   },
   "file_extension": ".py",
   "mimetype": "text/x-python",
   "name": "python",
   "nbconvert_exporter": "python",
   "pygments_lexer": "ipython3",
   "version": "3.12.4"
  }
 },
 "nbformat": 4,
 "nbformat_minor": 5
}
