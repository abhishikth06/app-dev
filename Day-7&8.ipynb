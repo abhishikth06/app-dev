{
 "cells": [
  {
   "cell_type": "code",
   "execution_count": 1,
   "id": "17bb453d-269f-41a1-877a-fe4b848f7ced",
   "metadata": {},
   "outputs": [],
   "source": [
    "import numpy as np"
   ]
  },
  {
   "cell_type": "raw",
   "id": "ee248a46-7032-40fa-bcdb-ba9a1ce1bd05",
   "metadata": {},
   "source": [
    "1) numpy                                  array operations \n",
    "2) pandas                                 Data manipulation and analysis\n",
    "3) matplotlib and seaborn                 Graphical analysis\n",
    "4) sklearn                                Machine learning algorithms and techniques\n",
    "5) statsmodels                            statistical analysis\n",
    "6) scipy                                  statistical analysis"
   ]
  },
  {
   "cell_type": "code",
   "execution_count": 2,
   "id": "9b0f4aa7-d92f-428b-b6d4-968fe374b174",
   "metadata": {},
   "outputs": [
    {
     "data": {
      "text/plain": [
       "[5, 7, 2, 8, 4, 7]"
      ]
     },
     "execution_count": 2,
     "metadata": {},
     "output_type": "execute_result"
    }
   ],
   "source": [
    "j=[5,7,2,8,4,7]\n",
    "j"
   ]
  },
  {
   "cell_type": "code",
   "execution_count": 3,
   "id": "3d8ce839-5354-488d-8769-85f7c7a21d1b",
   "metadata": {},
   "outputs": [
    {
     "data": {
      "text/plain": [
       "array([5, 7, 2, 8, 4, 7])"
      ]
     },
     "execution_count": 3,
     "metadata": {},
     "output_type": "execute_result"
    }
   ],
   "source": [
    "d=np.array(j)\n",
    "d"
   ]
  },
  {
   "cell_type": "code",
   "execution_count": 4,
   "id": "86278930-486a-47e1-b092-bdc767b97cb1",
   "metadata": {},
   "outputs": [
    {
     "data": {
      "text/plain": [
       "numpy.ndarray"
      ]
     },
     "execution_count": 4,
     "metadata": {},
     "output_type": "execute_result"
    }
   ],
   "source": [
    "type(d)"
   ]
  },
  {
   "cell_type": "code",
   "execution_count": 5,
   "id": "b309a2da-6a90-498d-9471-6be57cc2e314",
   "metadata": {},
   "outputs": [
    {
     "data": {
      "text/plain": [
       "(5, 7, 2, 8, 4, 7)"
      ]
     },
     "execution_count": 5,
     "metadata": {},
     "output_type": "execute_result"
    }
   ],
   "source": [
    "tuple(j)"
   ]
  },
  {
   "cell_type": "code",
   "execution_count": 6,
   "id": "9d62a243-9f28-441e-8f64-b0f681a0de9a",
   "metadata": {},
   "outputs": [
    {
     "data": {
      "text/plain": [
       "(6,)"
      ]
     },
     "execution_count": 6,
     "metadata": {},
     "output_type": "execute_result"
    }
   ],
   "source": [
    "d.shape"
   ]
  },
  {
   "cell_type": "code",
   "execution_count": 7,
   "id": "ad98d5c7-408c-4dd8-9944-062d73c3e159",
   "metadata": {},
   "outputs": [
    {
     "data": {
      "text/plain": [
       "1"
      ]
     },
     "execution_count": 7,
     "metadata": {},
     "output_type": "execute_result"
    }
   ],
   "source": [
    "d.ndim"
   ]
  },
  {
   "cell_type": "code",
   "execution_count": 8,
   "id": "efec36bb-c5b2-43a5-bbcc-03cac138d63f",
   "metadata": {},
   "outputs": [
    {
     "data": {
      "text/plain": [
       "6"
      ]
     },
     "execution_count": 8,
     "metadata": {},
     "output_type": "execute_result"
    }
   ],
   "source": [
    "d.size"
   ]
  },
  {
   "cell_type": "code",
   "execution_count": 9,
   "id": "ca37b9a9-857e-4196-b19e-44bea3750655",
   "metadata": {},
   "outputs": [
    {
     "data": {
      "text/plain": [
       "array([[5, 7, 2],\n",
       "       [8, 4, 7]])"
      ]
     },
     "execution_count": 9,
     "metadata": {},
     "output_type": "execute_result"
    }
   ],
   "source": [
    "h=d.reshape(2,3)\n",
    "h"
   ]
  },
  {
   "cell_type": "code",
   "execution_count": 10,
   "id": "4d6d0eab-1c73-4cf1-a40b-bfd7f20f8ac3",
   "metadata": {},
   "outputs": [
    {
     "data": {
      "text/plain": [
       "6"
      ]
     },
     "execution_count": 10,
     "metadata": {},
     "output_type": "execute_result"
    }
   ],
   "source": [
    "h.size"
   ]
  },
  {
   "cell_type": "code",
   "execution_count": 11,
   "id": "cdd86ca4-6a91-40ce-840d-d5b2ad92c14a",
   "metadata": {},
   "outputs": [
    {
     "data": {
      "text/plain": [
       "(2, 3)"
      ]
     },
     "execution_count": 11,
     "metadata": {},
     "output_type": "execute_result"
    }
   ],
   "source": [
    "h.shape"
   ]
  },
  {
   "cell_type": "code",
   "execution_count": 12,
   "id": "fe5ab1a6-1e84-4e77-bd33-6993b5e70664",
   "metadata": {},
   "outputs": [
    {
     "data": {
      "text/plain": [
       "2"
      ]
     },
     "execution_count": 12,
     "metadata": {},
     "output_type": "execute_result"
    }
   ],
   "source": [
    "h.ndim"
   ]
  },
  {
   "cell_type": "code",
   "execution_count": 13,
   "id": "6f490fe9-41f8-4366-9f98-8a894ccbb66d",
   "metadata": {},
   "outputs": [
    {
     "data": {
      "text/plain": [
       "[[4, 8, 90, 12],\n",
       " [56, 78, 54, 20],\n",
       " [67, 89, 50, 49],\n",
       " [77, 88, 22, 55],\n",
       " [90, 40, 70, 60]]"
      ]
     },
     "execution_count": 13,
     "metadata": {},
     "output_type": "execute_result"
    }
   ],
   "source": [
    "s=[[4,8,90,12],[56,78,54,20],[67,89,50,49],[77,88,22,55],[90,40,70,60]]\n",
    "s"
   ]
  },
  {
   "cell_type": "code",
   "execution_count": 14,
   "id": "051a1164-4709-4636-8a8a-d03002a00c2e",
   "metadata": {},
   "outputs": [
    {
     "data": {
      "text/plain": [
       "list"
      ]
     },
     "execution_count": 14,
     "metadata": {},
     "output_type": "execute_result"
    }
   ],
   "source": [
    "type(s)"
   ]
  },
  {
   "cell_type": "code",
   "execution_count": 15,
   "id": "199d5798-5756-49fa-9be0-b74dab876855",
   "metadata": {},
   "outputs": [],
   "source": [
    "import numpy as np"
   ]
  },
  {
   "cell_type": "code",
   "execution_count": 16,
   "id": "6c380b6f-3b9f-46af-9413-c2d8bb001a1d",
   "metadata": {},
   "outputs": [
    {
     "data": {
      "text/plain": [
       "array([[ 4,  8, 90, 12],\n",
       "       [56, 78, 54, 20],\n",
       "       [67, 89, 50, 49],\n",
       "       [77, 88, 22, 55],\n",
       "       [90, 40, 70, 60]])"
      ]
     },
     "execution_count": 16,
     "metadata": {},
     "output_type": "execute_result"
    }
   ],
   "source": [
    "arr1=np.array(s)\n",
    "arr1"
   ]
  },
  {
   "cell_type": "code",
   "execution_count": 17,
   "id": "201f47ae-cef1-47cd-a393-f1931607d192",
   "metadata": {},
   "outputs": [
    {
     "data": {
      "text/plain": [
       "(5, 4)"
      ]
     },
     "execution_count": 17,
     "metadata": {},
     "output_type": "execute_result"
    }
   ],
   "source": [
    "arr1.shape"
   ]
  },
  {
   "cell_type": "code",
   "execution_count": 18,
   "id": "2325050d-09f3-4bad-ba16-a2cd7a772d7c",
   "metadata": {},
   "outputs": [
    {
     "data": {
      "text/plain": [
       "20"
      ]
     },
     "execution_count": 18,
     "metadata": {},
     "output_type": "execute_result"
    }
   ],
   "source": [
    "arr1.size"
   ]
  },
  {
   "cell_type": "code",
   "execution_count": 19,
   "id": "f923474c-0775-4cf7-b4fc-eedb223de171",
   "metadata": {},
   "outputs": [
    {
     "data": {
      "text/plain": [
       "2"
      ]
     },
     "execution_count": 19,
     "metadata": {},
     "output_type": "execute_result"
    }
   ],
   "source": [
    "arr1.ndim"
   ]
  },
  {
   "cell_type": "code",
   "execution_count": 20,
   "id": "685b6a3f-7717-476c-a98b-09e55a789379",
   "metadata": {},
   "outputs": [
    {
     "data": {
      "text/plain": [
       "array([[[ 4,  8, 90, 12, 56],\n",
       "        [78, 54, 20, 67, 89]],\n",
       "\n",
       "       [[50, 49, 77, 88, 22],\n",
       "        [55, 90, 40, 70, 60]]])"
      ]
     },
     "execution_count": 20,
     "metadata": {},
     "output_type": "execute_result"
    }
   ],
   "source": [
    "k=arr1.reshape(2,2,5)\n",
    "k"
   ]
  },
  {
   "cell_type": "code",
   "execution_count": 21,
   "id": "f215231a-206b-4578-8ede-6ddb1acf8ca1",
   "metadata": {},
   "outputs": [
    {
     "data": {
      "text/plain": [
       "20"
      ]
     },
     "execution_count": 21,
     "metadata": {},
     "output_type": "execute_result"
    }
   ],
   "source": [
    "k.size"
   ]
  },
  {
   "cell_type": "code",
   "execution_count": 22,
   "id": "7a10873a-62be-49ed-add9-dc04319e8731",
   "metadata": {},
   "outputs": [
    {
     "data": {
      "text/plain": [
       "3"
      ]
     },
     "execution_count": 22,
     "metadata": {},
     "output_type": "execute_result"
    }
   ],
   "source": [
    "k.ndim"
   ]
  },
  {
   "cell_type": "code",
   "execution_count": 23,
   "id": "cf30483c-0fbf-4771-a87f-64ba92341f82",
   "metadata": {},
   "outputs": [
    {
     "data": {
      "text/plain": [
       "(2, 2, 5)"
      ]
     },
     "execution_count": 23,
     "metadata": {},
     "output_type": "execute_result"
    }
   ],
   "source": [
    "k.shape"
   ]
  },
  {
   "cell_type": "code",
   "execution_count": 24,
   "id": "4b4d8d70-e4d5-4798-9859-5fc3543c7fec",
   "metadata": {},
   "outputs": [
    {
     "data": {
      "text/plain": [
       "array([[ 4,  8, 90, 12],\n",
       "       [56, 78, 54, 20],\n",
       "       [67, 89, 50, 49],\n",
       "       [77, 88, 22, 55],\n",
       "       [90, 40, 70, 60]])"
      ]
     },
     "execution_count": 24,
     "metadata": {},
     "output_type": "execute_result"
    }
   ],
   "source": [
    "arr1"
   ]
  },
  {
   "cell_type": "code",
   "execution_count": 25,
   "id": "870ef5d8-9f9a-421b-803a-c145dddad3c4",
   "metadata": {},
   "outputs": [
    {
     "data": {
      "text/plain": [
       "array([ 4,  8, 90, 12, 56, 78, 54, 20, 67, 89, 50, 49, 77, 88, 22, 55, 90,\n",
       "       40, 70, 60])"
      ]
     },
     "execution_count": 25,
     "metadata": {},
     "output_type": "execute_result"
    }
   ],
   "source": [
    "y=arr1.reshape(20,)\n",
    "y"
   ]
  },
  {
   "cell_type": "code",
   "execution_count": 26,
   "id": "eb218c8b-8439-452b-87e5-c2a679d3c063",
   "metadata": {},
   "outputs": [
    {
     "data": {
      "text/plain": [
       "1"
      ]
     },
     "execution_count": 26,
     "metadata": {},
     "output_type": "execute_result"
    }
   ],
   "source": [
    "y.ndim"
   ]
  },
  {
   "cell_type": "code",
   "execution_count": 27,
   "id": "00371e6d-6b90-4e89-a13a-6883b7c51d38",
   "metadata": {},
   "outputs": [
    {
     "data": {
      "text/plain": [
       "array([[ 4,  8, 90, 12, 56, 78, 54, 20, 67, 89, 50, 49, 77, 88, 22, 55,\n",
       "        90, 40, 70, 60]])"
      ]
     },
     "execution_count": 27,
     "metadata": {},
     "output_type": "execute_result"
    }
   ],
   "source": [
    "z=arr1.reshape(1,20)\n",
    "z"
   ]
  },
  {
   "cell_type": "code",
   "execution_count": 28,
   "id": "8e1c2eba-ce90-43cf-b359-511493575194",
   "metadata": {},
   "outputs": [
    {
     "data": {
      "text/plain": [
       "2"
      ]
     },
     "execution_count": 28,
     "metadata": {},
     "output_type": "execute_result"
    }
   ],
   "source": [
    "z.ndim"
   ]
  },
  {
   "cell_type": "code",
   "execution_count": 29,
   "id": "55f78321-9f0b-46a8-b450-b2727fb50812",
   "metadata": {},
   "outputs": [
    {
     "data": {
      "text/plain": [
       "(5, 4)"
      ]
     },
     "execution_count": 29,
     "metadata": {},
     "output_type": "execute_result"
    }
   ],
   "source": [
    "arr1.shape"
   ]
  },
  {
   "cell_type": "code",
   "execution_count": 30,
   "id": "45f23f6b-2ffb-4c3b-9ad5-80e5ee575ac5",
   "metadata": {},
   "outputs": [
    {
     "data": {
      "text/plain": [
       "array([[[[ 4],\n",
       "         [ 8],\n",
       "         [90],\n",
       "         [12],\n",
       "         [56]],\n",
       "\n",
       "        [[78],\n",
       "         [54],\n",
       "         [20],\n",
       "         [67],\n",
       "         [89]]],\n",
       "\n",
       "\n",
       "       [[[50],\n",
       "         [49],\n",
       "         [77],\n",
       "         [88],\n",
       "         [22]],\n",
       "\n",
       "        [[55],\n",
       "         [90],\n",
       "         [40],\n",
       "         [70],\n",
       "         [60]]]])"
      ]
     },
     "execution_count": 30,
     "metadata": {},
     "output_type": "execute_result"
    }
   ],
   "source": [
    "arr1.reshape(2,2,5,1)"
   ]
  },
  {
   "cell_type": "code",
   "execution_count": 31,
   "id": "5e27acff-2f6c-4c47-b5f1-10a472463d7e",
   "metadata": {},
   "outputs": [
    {
     "data": {
      "text/plain": [
       "range(5, 20)"
      ]
     },
     "execution_count": 31,
     "metadata": {},
     "output_type": "execute_result"
    }
   ],
   "source": [
    "range(5,20)"
   ]
  },
  {
   "cell_type": "code",
   "execution_count": 32,
   "id": "eb938bb6-4d0c-47fe-99fd-a33a945219e0",
   "metadata": {},
   "outputs": [
    {
     "data": {
      "text/plain": [
       "[3, 4, 5, 6, 7, 8]"
      ]
     },
     "execution_count": 32,
     "metadata": {},
     "output_type": "execute_result"
    }
   ],
   "source": [
    "m=[3,4,5,6,7,8]\n",
    "m"
   ]
  },
  {
   "cell_type": "code",
   "execution_count": 33,
   "id": "82fc8ffd-c467-4304-9b02-dc28dee10214",
   "metadata": {},
   "outputs": [
    {
     "data": {
      "text/plain": [
       "range(3, 101)"
      ]
     },
     "execution_count": 33,
     "metadata": {},
     "output_type": "execute_result"
    }
   ],
   "source": [
    "range(3,101)"
   ]
  },
  {
   "cell_type": "code",
   "execution_count": 34,
   "id": "ec7efade-dbe8-4788-963f-c7c6eac52971",
   "metadata": {},
   "outputs": [
    {
     "data": {
      "text/plain": [
       "[3, 5, 7, 9, 11]"
      ]
     },
     "execution_count": 34,
     "metadata": {},
     "output_type": "execute_result"
    }
   ],
   "source": [
    "list(range(3,13,2))"
   ]
  },
  {
   "cell_type": "code",
   "execution_count": 35,
   "id": "ee4582a6-530f-4b1a-9d6d-846db424ca68",
   "metadata": {},
   "outputs": [
    {
     "data": {
      "text/plain": [
       "(3, 5, 7, 9, 11)"
      ]
     },
     "execution_count": 35,
     "metadata": {},
     "output_type": "execute_result"
    }
   ],
   "source": [
    "tuple(range(3,13,2))"
   ]
  },
  {
   "cell_type": "code",
   "execution_count": 36,
   "id": "a71ccc66-89b7-439a-b7c7-42eb81ef63b9",
   "metadata": {},
   "outputs": [
    {
     "data": {
      "text/plain": [
       "[-1, -2, -3, -4, -5, -6, -7, -8, -9]"
      ]
     },
     "execution_count": 36,
     "metadata": {},
     "output_type": "execute_result"
    }
   ],
   "source": [
    "list(range(-1,-10,-1))"
   ]
  },
  {
   "cell_type": "code",
   "execution_count": 37,
   "id": "f766e9d6-fd81-41d6-b011-e3634f8a3b03",
   "metadata": {},
   "outputs": [
    {
     "data": {
      "text/plain": [
       "[10, 8, 6, 4, 2, 0, -2, -4, -6, -8]"
      ]
     },
     "execution_count": 37,
     "metadata": {},
     "output_type": "execute_result"
    }
   ],
   "source": [
    "list(range(10,-10,-2))"
   ]
  },
  {
   "cell_type": "code",
   "execution_count": 38,
   "id": "4b29afa0-a51f-493e-ab22-7517fe3123e6",
   "metadata": {},
   "outputs": [
    {
     "data": {
      "text/plain": [
       "array([2.5, 3. , 3.5, 4. , 4.5])"
      ]
     },
     "execution_count": 38,
     "metadata": {},
     "output_type": "execute_result"
    }
   ],
   "source": [
    "np.arange(2.5,5,0.5)"
   ]
  },
  {
   "cell_type": "code",
   "execution_count": 39,
   "id": "a2473377-cb12-4f72-9ee2-3b94ba2c0748",
   "metadata": {},
   "outputs": [
    {
     "data": {
      "text/plain": [
       "array([5, 6, 7, 8, 9])"
      ]
     },
     "execution_count": 39,
     "metadata": {},
     "output_type": "execute_result"
    }
   ],
   "source": [
    "np.arange(5,10,1)"
   ]
  },
  {
   "cell_type": "code",
   "execution_count": 40,
   "id": "171a3de2-ba04-4ed5-a389-c1d6238ca497",
   "metadata": {},
   "outputs": [
    {
     "data": {
      "text/plain": [
       "range(5, 50, 5)"
      ]
     },
     "execution_count": 40,
     "metadata": {},
     "output_type": "execute_result"
    }
   ],
   "source": [
    "range(5,50,5)"
   ]
  },
  {
   "cell_type": "code",
   "execution_count": 41,
   "id": "654adaac-7636-4e05-aafc-1db8098ef0e1",
   "metadata": {},
   "outputs": [
    {
     "name": "stdout",
     "output_type": "stream",
     "text": [
      "Data 5\n",
      "Data 10\n",
      "Data 15\n",
      "Data 20\n",
      "Data 25\n",
      "Data 30\n",
      "Data 35\n",
      "Data 40\n",
      "Data 45\n"
     ]
    }
   ],
   "source": [
    "for i in range(5,50,5):\n",
    "    print('Data',i)"
   ]
  },
  {
   "cell_type": "code",
   "execution_count": 42,
   "id": "750cad5c-2b79-472c-80f7-9adeb511d947",
   "metadata": {},
   "outputs": [
    {
     "data": {
      "text/plain": [
       "[5, 87, 23, 46, 62, 84, 80, 45, 77, 33, 80]"
      ]
     },
     "execution_count": 42,
     "metadata": {},
     "output_type": "execute_result"
    }
   ],
   "source": [
    "j=[5,87,23,46,62,84,80,45,77,33,80]\n",
    "j"
   ]
  },
  {
   "cell_type": "code",
   "execution_count": 43,
   "id": "a603b46e-bc8c-4638-8dbe-d1ceb2df8b7d",
   "metadata": {},
   "outputs": [
    {
     "data": {
      "text/plain": [
       "range(0, 11)"
      ]
     },
     "execution_count": 43,
     "metadata": {},
     "output_type": "execute_result"
    }
   ],
   "source": [
    "range(len(j))"
   ]
  },
  {
   "cell_type": "code",
   "execution_count": 44,
   "id": "a5550520-2aa6-4c3c-bd4d-8921f2a714f9",
   "metadata": {},
   "outputs": [
    {
     "name": "stdout",
     "output_type": "stream",
     "text": [
      "0\n",
      "1\n",
      "2\n",
      "3\n",
      "4\n",
      "5\n",
      "6\n",
      "7\n",
      "8\n",
      "9\n",
      "10\n"
     ]
    }
   ],
   "source": [
    "for i in range(len(j)):\n",
    "    print(i)"
   ]
  },
  {
   "cell_type": "code",
   "execution_count": 45,
   "id": "6409a948-0d62-4ec9-8e73-37e9836ca4b6",
   "metadata": {},
   "outputs": [
    {
     "data": {
      "text/plain": [
       "[5, 23, 62, 80, 77, 80]"
      ]
     },
     "execution_count": 45,
     "metadata": {},
     "output_type": "execute_result"
    }
   ],
   "source": [
    "j[0:11:2]"
   ]
  },
  {
   "cell_type": "code",
   "execution_count": 46,
   "id": "c39ddf28-5ff4-4dc4-a787-d6ff08d63d6f",
   "metadata": {},
   "outputs": [
    {
     "data": {
      "text/plain": [
       "[87, 46, 84, 45, 33]"
      ]
     },
     "execution_count": 46,
     "metadata": {},
     "output_type": "execute_result"
    }
   ],
   "source": [
    "j[1:11:2]"
   ]
  },
  {
   "cell_type": "code",
   "execution_count": 47,
   "id": "57774366-aad0-4fa0-9fd4-235482bbf553",
   "metadata": {},
   "outputs": [],
   "source": [
    "y=[]\n",
    "x=[]\n",
    "for i in range(len(j)):\n",
    "    if i%2==0:\n",
    "        x.append(j[i])\n",
    "    else:\n",
    "        y.append(j[i])"
   ]
  },
  {
   "cell_type": "code",
   "execution_count": 48,
   "id": "899087ed-70ff-40a6-9b84-1af1aa94c0c3",
   "metadata": {},
   "outputs": [
    {
     "data": {
      "text/plain": [
       "[87, 46, 84, 45, 33]"
      ]
     },
     "execution_count": 48,
     "metadata": {},
     "output_type": "execute_result"
    }
   ],
   "source": [
    "y"
   ]
  },
  {
   "cell_type": "code",
   "execution_count": 49,
   "id": "8284886b-00a7-49cf-8e6b-3222410ba939",
   "metadata": {},
   "outputs": [
    {
     "data": {
      "text/plain": [
       "[5, 23, 62, 80, 77, 80]"
      ]
     },
     "execution_count": 49,
     "metadata": {},
     "output_type": "execute_result"
    }
   ],
   "source": [
    "x"
   ]
  },
  {
   "cell_type": "code",
   "execution_count": 50,
   "id": "f70bcf9f-ab3f-475b-8752-8fa8259768c0",
   "metadata": {},
   "outputs": [
    {
     "name": "stdout",
     "output_type": "stream",
     "text": [
      "5\n",
      "87\n",
      "23\n",
      "46\n",
      "62\n",
      "84\n",
      "80\n",
      "45\n",
      "77\n",
      "33\n",
      "80\n"
     ]
    }
   ],
   "source": [
    "for i in j:\n",
    "    print(i)"
   ]
  },
  {
   "cell_type": "code",
   "execution_count": 51,
   "id": "7a08a551-4dd4-4877-9bb9-2254ace42dc9",
   "metadata": {},
   "outputs": [],
   "source": [
    "import numpy as np"
   ]
  },
  {
   "cell_type": "code",
   "execution_count": 53,
   "id": "c254941c-72a9-49d4-8133-c1ab6b38aee0",
   "metadata": {},
   "outputs": [
    {
     "data": {
      "text/plain": [
       "array([10, 40, 50, 30, 70])"
      ]
     },
     "execution_count": 53,
     "metadata": {},
     "output_type": "execute_result"
    }
   ],
   "source": [
    "d=np.array([10,40,50,30,70])\n",
    "d"
   ]
  },
  {
   "cell_type": "code",
   "execution_count": 61,
   "id": "94ad9945-1900-4713-8bbe-b678ba63de52",
   "metadata": {},
   "outputs": [
    {
     "data": {
      "text/plain": [
       "40.0"
      ]
     },
     "execution_count": 61,
     "metadata": {},
     "output_type": "execute_result"
    }
   ],
   "source": [
    "np.mean(d)"
   ]
  },
  {
   "cell_type": "code",
   "execution_count": 56,
   "id": "3752d51b-dfe5-4781-899b-d8f761596726",
   "metadata": {},
   "outputs": [
    {
     "data": {
      "text/plain": [
       "40.0"
      ]
     },
     "execution_count": 56,
     "metadata": {},
     "output_type": "execute_result"
    }
   ],
   "source": [
    "np.median(d)"
   ]
  },
  {
   "cell_type": "code",
   "execution_count": 58,
   "id": "ffd37406-aa47-4f0f-ba62-e509e30bec72",
   "metadata": {},
   "outputs": [
    {
     "data": {
      "text/plain": [
       "400.0"
      ]
     },
     "execution_count": 58,
     "metadata": {},
     "output_type": "execute_result"
    }
   ],
   "source": [
    "np.var(d)"
   ]
  },
  {
   "cell_type": "code",
   "execution_count": 59,
   "id": "b4f6122c-f07c-40af-b88d-fe496b6f0722",
   "metadata": {},
   "outputs": [
    {
     "data": {
      "text/plain": [
       "20.0"
      ]
     },
     "execution_count": 59,
     "metadata": {},
     "output_type": "execute_result"
    }
   ],
   "source": [
    "np.std(d)"
   ]
  },
  {
   "cell_type": "code",
   "execution_count": 60,
   "id": "4e2df42a-c0cc-4cdf-8709-f5745a3cd55a",
   "metadata": {},
   "outputs": [
    {
     "data": {
      "text/plain": [
       "70"
      ]
     },
     "execution_count": 60,
     "metadata": {},
     "output_type": "execute_result"
    }
   ],
   "source": [
    "np.max(d)"
   ]
  },
  {
   "cell_type": "code",
   "execution_count": 62,
   "id": "83f0d615-eb12-4fd9-9da4-d09fe157e69e",
   "metadata": {},
   "outputs": [
    {
     "data": {
      "text/plain": [
       "10"
      ]
     },
     "execution_count": 62,
     "metadata": {},
     "output_type": "execute_result"
    }
   ],
   "source": [
    "np.min(d)"
   ]
  },
  {
   "cell_type": "code",
   "execution_count": 68,
   "id": "9b7ce4e4-6da3-469d-8183-6129233759d1",
   "metadata": {},
   "outputs": [
    {
     "data": {
      "text/plain": [
       "30.0"
      ]
     },
     "execution_count": 68,
     "metadata": {},
     "output_type": "execute_result"
    }
   ],
   "source": [
    "q1=np.quantile(d,0.25)\n",
    "q1"
   ]
  },
  {
   "cell_type": "code",
   "execution_count": 69,
   "id": "4951e032-655a-46bb-9734-cf1c91131777",
   "metadata": {},
   "outputs": [
    {
     "data": {
      "text/plain": [
       "40.0"
      ]
     },
     "execution_count": 69,
     "metadata": {},
     "output_type": "execute_result"
    }
   ],
   "source": [
    "q2=np.quantile(d,0.5)\n",
    "q2"
   ]
  },
  {
   "cell_type": "code",
   "execution_count": 70,
   "id": "04c2f99e-f398-43fb-9be3-951b6c1dfff2",
   "metadata": {
    "scrolled": true
   },
   "outputs": [
    {
     "data": {
      "text/plain": [
       "50.0"
      ]
     },
     "execution_count": 70,
     "metadata": {},
     "output_type": "execute_result"
    }
   ],
   "source": [
    "q3=np.quantile(d,0.75)\n",
    "q3"
   ]
  },
  {
   "cell_type": "code",
   "execution_count": 76,
   "id": "289b5a81-75ef-4c42-916d-2d3cbd3e8058",
   "metadata": {},
   "outputs": [
    {
     "data": {
      "text/plain": [
       "array([[0.25152693, 0.81185575, 0.36862579, 0.33132564, 0.92096105],\n",
       "       [0.70163841, 0.88310976, 0.24312529, 0.03724871, 0.30479013],\n",
       "       [0.85858484, 0.80079148, 0.35115474, 0.21066566, 0.6879644 ],\n",
       "       [0.47997032, 0.74378096, 0.90508056, 0.02652386, 0.62691467],\n",
       "       [0.59880609, 0.8404836 , 0.96976096, 0.53348855, 0.92728299],\n",
       "       [0.4374244 , 0.21881257, 0.32703731, 0.19356074, 0.26312792],\n",
       "       [0.91405373, 0.41711107, 0.1869319 , 0.29021622, 0.63061263],\n",
       "       [0.02632034, 0.16779811, 0.16154092, 0.57406511, 0.16647569],\n",
       "       [0.33001206, 0.14086849, 0.50043521, 0.07236088, 0.26720031],\n",
       "       [0.29419405, 0.60788475, 0.82197352, 0.95179863, 0.8965967 ]])"
      ]
     },
     "execution_count": 76,
     "metadata": {},
     "output_type": "execute_result"
    }
   ],
   "source": [
    "r=np.random.rand(10,5)\n",
    "r"
   ]
  },
  {
   "cell_type": "code",
   "execution_count": 77,
   "id": "a69411b9-4f0e-4171-a332-60bdf42b3a96",
   "metadata": {},
   "outputs": [
    {
     "data": {
      "text/plain": [
       "50"
      ]
     },
     "execution_count": 77,
     "metadata": {},
     "output_type": "execute_result"
    }
   ],
   "source": [
    "r.size"
   ]
  },
  {
   "cell_type": "code",
   "execution_count": 78,
   "id": "fbcfffb4-8bae-4e05-b3ff-2190d3c64fdb",
   "metadata": {},
   "outputs": [
    {
     "data": {
      "text/plain": [
       "2"
      ]
     },
     "execution_count": 78,
     "metadata": {},
     "output_type": "execute_result"
    }
   ],
   "source": [
    "r.ndim"
   ]
  },
  {
   "cell_type": "code",
   "execution_count": 99,
   "id": "0b9c77ce-dfbf-442b-b696-1e47093b8b90",
   "metadata": {},
   "outputs": [
    {
     "data": {
      "text/plain": [
       "array([[[0.38245253, 0.80045137],\n",
       "        [0.48575674, 0.18927981],\n",
       "        [0.11892037, 0.06806254]],\n",
       "\n",
       "       [[0.66110879, 0.91458277],\n",
       "        [0.60069013, 0.17511575],\n",
       "        [0.9146614 , 0.74190315]],\n",
       "\n",
       "       [[0.85078096, 0.64539198],\n",
       "        [0.96731412, 0.59676519],\n",
       "        [0.04029439, 0.89023454]],\n",
       "\n",
       "       [[0.62743097, 0.07288768],\n",
       "        [0.5672723 , 0.00499873],\n",
       "        [0.03019992, 0.42871884]],\n",
       "\n",
       "       [[0.9132208 , 0.24135375],\n",
       "        [0.64417676, 0.22790424],\n",
       "        [0.78289497, 0.39289769]]])"
      ]
     },
     "execution_count": 99,
     "metadata": {},
     "output_type": "execute_result"
    }
   ],
   "source": [
    "s=np.random.rand(5,3,2) # 0 to 1 \n",
    "s"
   ]
  },
  {
   "cell_type": "code",
   "execution_count": 96,
   "id": "d4267a99-8fb9-442d-9973-6507ae7ddf8c",
   "metadata": {},
   "outputs": [
    {
     "data": {
      "text/plain": [
       "array([0.78613363])"
      ]
     },
     "execution_count": 96,
     "metadata": {},
     "output_type": "execute_result"
    }
   ],
   "source": [
    "t=np.random.rand(1)\n",
    "t"
   ]
  },
  {
   "cell_type": "code",
   "execution_count": 94,
   "id": "706cedf8-21d4-4caf-8392-3505167f10b7",
   "metadata": {},
   "outputs": [
    {
     "data": {
      "text/plain": [
       "3"
      ]
     },
     "execution_count": 94,
     "metadata": {},
     "output_type": "execute_result"
    }
   ],
   "source": [
    "s.ndim"
   ]
  },
  {
   "cell_type": "code",
   "execution_count": 97,
   "id": "8691e3a7-ffd7-4e29-b7de-6710312c1525",
   "metadata": {},
   "outputs": [
    {
     "data": {
      "text/plain": [
       "1"
      ]
     },
     "execution_count": 97,
     "metadata": {},
     "output_type": "execute_result"
    }
   ],
   "source": [
    "t.ndim"
   ]
  },
  {
   "cell_type": "code",
   "execution_count": 98,
   "id": "98d2b0eb-a5a2-4158-b7b8-266ee2a5407b",
   "metadata": {},
   "outputs": [
    {
     "data": {
      "text/plain": [
       "array([[-0.06033325],\n",
       "       [-0.68466974],\n",
       "       [ 0.44796436],\n",
       "       [-1.10755268],\n",
       "       [ 1.07729191],\n",
       "       [ 2.14693548],\n",
       "       [-0.83869364],\n",
       "       [-1.14302863],\n",
       "       [ 0.4776558 ],\n",
       "       [-0.30327636],\n",
       "       [ 1.95221194],\n",
       "       [-0.6930061 ],\n",
       "       [ 0.74891531],\n",
       "       [ 1.57165714],\n",
       "       [ 1.20365689],\n",
       "       [-0.82230971],\n",
       "       [ 0.00402435],\n",
       "       [ 0.15200959],\n",
       "       [ 0.8696466 ],\n",
       "       [-0.58273586],\n",
       "       [ 0.65312878],\n",
       "       [-1.40067618],\n",
       "       [-0.02430774],\n",
       "       [ 1.06639294],\n",
       "       [ 0.37901131],\n",
       "       [-0.63387581],\n",
       "       [-1.14476027],\n",
       "       [ 0.26470744],\n",
       "       [-1.10551714],\n",
       "       [ 0.36960798]])"
      ]
     },
     "execution_count": 98,
     "metadata": {},
     "output_type": "execute_result"
    }
   ],
   "source": [
    "np.random.randn(30,1)"
   ]
  },
  {
   "cell_type": "code",
   "execution_count": 100,
   "id": "9adeb9e1-721d-4e7d-9d7e-65a4b86c9f92",
   "metadata": {},
   "outputs": [
    {
     "data": {
      "text/plain": [
       "array([[11.64334729, 10.83736698,  9.29352986,  8.32264135, 10.4878028 ],\n",
       "       [11.15544312,  9.72852142, 13.7291226 ,  8.56127829, 10.83646777],\n",
       "       [ 9.89213767,  8.49249092, 10.05485412, 10.01322921,  9.42095239],\n",
       "       [11.02465341, 12.33942876, 11.63415435,  5.93072617, 14.80318252]])"
      ]
     },
     "execution_count": 100,
     "metadata": {},
     "output_type": "execute_result"
    }
   ],
   "source": [
    "np.random.normal(10,2,(4,5))"
   ]
  },
  {
   "cell_type": "code",
   "execution_count": 108,
   "id": "4c5912f3-65a9-4f6a-b841-d8d456552082",
   "metadata": {},
   "outputs": [
    {
     "data": {
      "text/plain": [
       "array([[70, 74, 61, 42, 67],\n",
       "       [74, 47, 53, 70, 51],\n",
       "       [82, 81, 76, 62, 81],\n",
       "       [78, 69, 37, 73, 47],\n",
       "       [76, 59, 40, 85, 79]])"
      ]
     },
     "execution_count": 108,
     "metadata": {},
     "output_type": "execute_result"
    }
   ],
   "source": [
    "np.random.randint(35,86,(5,5))"
   ]
  },
  {
   "cell_type": "code",
   "execution_count": null,
   "id": "f5b90701-56f0-4727-a11c-66d242138b76",
   "metadata": {},
   "outputs": [],
   "source": []
  }
 ],
 "metadata": {
  "kernelspec": {
   "display_name": "Python 3 (ipykernel)",
   "language": "python",
   "name": "python3"
  },
  "language_info": {
   "codemirror_mode": {
    "name": "ipython",
    "version": 3
   },
   "file_extension": ".py",
   "mimetype": "text/x-python",
   "name": "python",
   "nbconvert_exporter": "python",
   "pygments_lexer": "ipython3",
   "version": "3.12.4"
  }
 },
 "nbformat": 4,
 "nbformat_minor": 5
}
