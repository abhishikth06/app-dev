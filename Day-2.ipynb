{
 "cells": [
  {
   "cell_type": "markdown",
   "id": "bead7ead-beca-4b1f-9eda-d604276615fb",
   "metadata": {},
   "source": [
    "# List\n",
    "# Tuple\n",
    "# set\n",
    "# dict"
   ]
  },
  {
   "cell_type": "code",
   "execution_count": 2,
   "id": "7980b95c-0ca7-48f8-85b7-a4731d59ef90",
   "metadata": {},
   "outputs": [
    {
     "data": {
      "text/plain": [
       "56"
      ]
     },
     "execution_count": 2,
     "metadata": {},
     "output_type": "execute_result"
    }
   ],
   "source": [
    "b=56\n",
    "b"
   ]
  },
  {
   "cell_type": "code",
   "execution_count": 3,
   "id": "d0c5c819-dd17-473c-8a81-0824d3fb5022",
   "metadata": {},
   "outputs": [
    {
     "data": {
      "text/plain": [
       "int"
      ]
     },
     "execution_count": 3,
     "metadata": {},
     "output_type": "execute_result"
    }
   ],
   "source": [
    "type(b)"
   ]
  },
  {
   "cell_type": "code",
   "execution_count": 4,
   "id": "28d2eaa2-1074-4ac0-af55-907aaabedab2",
   "metadata": {},
   "outputs": [
    {
     "data": {
      "text/plain": [
       "[1, 2, 3, 4, 5, 6]"
      ]
     },
     "execution_count": 4,
     "metadata": {},
     "output_type": "execute_result"
    }
   ],
   "source": [
    "a=[1,2,3,4,5,6]\n",
    "a"
   ]
  },
  {
   "cell_type": "code",
   "execution_count": 5,
   "id": "4c072c93-7dfe-411a-9c8b-0c19f9b70baa",
   "metadata": {},
   "outputs": [
    {
     "data": {
      "text/plain": [
       "list"
      ]
     },
     "execution_count": 5,
     "metadata": {},
     "output_type": "execute_result"
    }
   ],
   "source": [
    "type(a)"
   ]
  },
  {
   "cell_type": "code",
   "execution_count": 6,
   "id": "e3afbbf0-813a-4736-9a05-8a7597378e4f",
   "metadata": {},
   "outputs": [
    {
     "data": {
      "text/plain": [
       "[234, 'Vijayawada', 234.5657, True, (1+2j), 'Hello World']"
      ]
     },
     "execution_count": 6,
     "metadata": {},
     "output_type": "execute_result"
    }
   ],
   "source": [
    "c=[234,\"Vijayawada\",234.5657,True,1+2j,\"Hello World\"]\n",
    "c"
   ]
  },
  {
   "cell_type": "code",
   "execution_count": 7,
   "id": "148affcc-d38d-4140-a172-306cb042bab3",
   "metadata": {},
   "outputs": [
    {
     "data": {
      "text/plain": [
       "list"
      ]
     },
     "execution_count": 7,
     "metadata": {},
     "output_type": "execute_result"
    }
   ],
   "source": [
    "type(c)"
   ]
  },
  {
   "cell_type": "code",
   "execution_count": 8,
   "id": "35a8aacd-b4ce-46ee-9dd3-f0dbf9dafc0b",
   "metadata": {},
   "outputs": [
    {
     "data": {
      "text/plain": [
       "'Vijayawada'"
      ]
     },
     "execution_count": 8,
     "metadata": {},
     "output_type": "execute_result"
    }
   ],
   "source": [
    "c[1]"
   ]
  },
  {
   "cell_type": "code",
   "execution_count": 9,
   "id": "37144a7f-6d1b-47ea-b8c9-f87baa73d011",
   "metadata": {},
   "outputs": [
    {
     "data": {
      "text/plain": [
       "234"
      ]
     },
     "execution_count": 9,
     "metadata": {},
     "output_type": "execute_result"
    }
   ],
   "source": [
    "c[0]"
   ]
  },
  {
   "cell_type": "code",
   "execution_count": 10,
   "id": "b4adf369-6ef6-487f-b02b-fbd16c64aef0",
   "metadata": {},
   "outputs": [
    {
     "data": {
      "text/plain": [
       "[234, 'Vijayawada', 234.5657, True, (1+2j), 'Hello World']"
      ]
     },
     "execution_count": 10,
     "metadata": {},
     "output_type": "execute_result"
    }
   ],
   "source": [
    "c"
   ]
  },
  {
   "cell_type": "code",
   "execution_count": 11,
   "id": "ed3e4600-3aea-47cb-a5f2-7edd59795f1b",
   "metadata": {},
   "outputs": [
    {
     "data": {
      "text/plain": [
       "[234, 234.5657, (1+2j)]"
      ]
     },
     "execution_count": 11,
     "metadata": {},
     "output_type": "execute_result"
    }
   ],
   "source": [
    "c[::2]"
   ]
  },
  {
   "cell_type": "code",
   "execution_count": 12,
   "id": "c4bfbf84-f81c-4a0c-a6c6-0ebfb38bae84",
   "metadata": {},
   "outputs": [
    {
     "data": {
      "text/plain": [
       "234.5657"
      ]
     },
     "execution_count": 12,
     "metadata": {},
     "output_type": "execute_result"
    }
   ],
   "source": [
    "c[2]"
   ]
  },
  {
   "cell_type": "code",
   "execution_count": 13,
   "id": "cce6f11f-7844-4446-87ab-9bce64789fd4",
   "metadata": {},
   "outputs": [
    {
     "data": {
      "text/plain": [
       "234.5657"
      ]
     },
     "execution_count": 13,
     "metadata": {},
     "output_type": "execute_result"
    }
   ],
   "source": [
    "c[-4]"
   ]
  },
  {
   "cell_type": "code",
   "execution_count": 14,
   "id": "b7b1909e-f3a3-4a40-a519-cc93ae91d5b0",
   "metadata": {},
   "outputs": [
    {
     "data": {
      "text/plain": [
       "['Hello World', (1+2j), True, 234.5657, 'Vijayawada', 234]"
      ]
     },
     "execution_count": 14,
     "metadata": {},
     "output_type": "execute_result"
    }
   ],
   "source": [
    "c[-1:-7:-1] #While we are Going reverse using negative Index we need to use Negative step size"
   ]
  },
  {
   "cell_type": "code",
   "execution_count": 15,
   "id": "c1588b01-9cdd-4196-82e4-583e11804236",
   "metadata": {},
   "outputs": [
    {
     "data": {
      "text/plain": [
       "['Hello World', (1+2j), True, 234.5657, 'Vijayawada', 234]"
      ]
     },
     "execution_count": 15,
     "metadata": {},
     "output_type": "execute_result"
    }
   ],
   "source": [
    "c[-1::-1]"
   ]
  },
  {
   "cell_type": "code",
   "execution_count": 16,
   "id": "402cc9dc-9874-415d-84f6-a90b5378b2c8",
   "metadata": {},
   "outputs": [
    {
     "data": {
      "text/plain": [
       "[203, 'Hyderabad', 45, True, False, 78, 175, 34.9]"
      ]
     },
     "execution_count": 16,
     "metadata": {},
     "output_type": "execute_result"
    }
   ],
   "source": [
    "c=[203,'Hyderabad',45,True,False,78,175,34.9]\n",
    "c"
   ]
  },
  {
   "cell_type": "code",
   "execution_count": 17,
   "id": "4c9ff7ca-dac9-44a8-b839-b459be99b229",
   "metadata": {},
   "outputs": [
    {
     "data": {
      "text/plain": [
       "175"
      ]
     },
     "execution_count": 17,
     "metadata": {},
     "output_type": "execute_result"
    }
   ],
   "source": [
    "c[6]"
   ]
  },
  {
   "cell_type": "markdown",
   "id": "37f8535c-0a33-411d-b52e-1183447bf206",
   "metadata": {},
   "source": [
    "# Print 175,78,False,True,45"
   ]
  },
  {
   "cell_type": "code",
   "execution_count": 19,
   "id": "105e5185-d7d6-4de5-a99b-066a0391e36e",
   "metadata": {},
   "outputs": [
    {
     "data": {
      "text/plain": [
       "[175, 78, False, True, 45]"
      ]
     },
     "execution_count": 19,
     "metadata": {},
     "output_type": "execute_result"
    }
   ],
   "source": [
    "c[-2:-7:-1]"
   ]
  },
  {
   "cell_type": "code",
   "execution_count": 20,
   "id": "508c6c0f-f0db-4843-a21c-743763d4f774",
   "metadata": {},
   "outputs": [
    {
     "data": {
      "text/plain": [
       "[175, 78, False, True, 45]"
      ]
     },
     "execution_count": 20,
     "metadata": {},
     "output_type": "execute_result"
    }
   ],
   "source": [
    "c[6:1:-1]"
   ]
  },
  {
   "cell_type": "markdown",
   "id": "3ecb2a7c-ddcc-4b8d-a106-0dce969987dd",
   "metadata": {},
   "source": [
    "# List Methods"
   ]
  },
  {
   "cell_type": "markdown",
   "id": "a49add7a-7f67-4163-b6cb-436e036db9bc",
   "metadata": {},
   "source": [
    "## append\n",
    "## insert\n",
    "## extend\n",
    "## pop\n",
    "## remove\n",
    "## clear\n",
    "## count"
   ]
  },
  {
   "cell_type": "code",
   "execution_count": 23,
   "id": "fdce1e66-a883-4ccf-a6ef-5ef8e9a51492",
   "metadata": {},
   "outputs": [
    {
     "data": {
      "text/plain": [
       "[203, 'Hyderabad', 45, True, False, 78, 175, 34.9]"
      ]
     },
     "execution_count": 23,
     "metadata": {},
     "output_type": "execute_result"
    }
   ],
   "source": [
    "c"
   ]
  },
  {
   "cell_type": "code",
   "execution_count": 27,
   "id": "87daa98f-75ac-4541-b3d1-8f3c7c6727ae",
   "metadata": {},
   "outputs": [],
   "source": [
    "c.append(80)"
   ]
  },
  {
   "cell_type": "code",
   "execution_count": 29,
   "id": "149e8378-d081-4a0c-aff5-2c578b9036dd",
   "metadata": {},
   "outputs": [
    {
     "data": {
      "text/plain": [
       "[203, 'Hyderabad', 45, True, False, 78, 175, 34.9, 80, 80]"
      ]
     },
     "execution_count": 29,
     "metadata": {},
     "output_type": "execute_result"
    }
   ],
   "source": [
    "c"
   ]
  },
  {
   "cell_type": "code",
   "execution_count": 31,
   "id": "755006e6-ff4e-4bc8-8a6f-de1c8277d846",
   "metadata": {},
   "outputs": [],
   "source": [
    "c.insert(1,90)"
   ]
  },
  {
   "cell_type": "code",
   "execution_count": 33,
   "id": "a04690fe-8232-4bbc-a847-0aa9521553e4",
   "metadata": {},
   "outputs": [
    {
     "data": {
      "text/plain": [
       "[203, 90, 'Hyderabad', 45, True, False, 78, 175, 34.9, 80, 80]"
      ]
     },
     "execution_count": 33,
     "metadata": {},
     "output_type": "execute_result"
    }
   ],
   "source": [
    "c"
   ]
  },
  {
   "cell_type": "code",
   "execution_count": 35,
   "id": "bf4772de-9672-4a5f-ab84-09018cb6c3d6",
   "metadata": {},
   "outputs": [],
   "source": [
    "c.insert(3,45)"
   ]
  },
  {
   "cell_type": "code",
   "execution_count": 37,
   "id": "d1623fae-8f0d-485e-800d-3ffac39889d9",
   "metadata": {},
   "outputs": [
    {
     "data": {
      "text/plain": [
       "[203, 90, 'Hyderabad', 45, 45, True, False, 78, 175, 34.9, 80, 80]"
      ]
     },
     "execution_count": 37,
     "metadata": {},
     "output_type": "execute_result"
    }
   ],
   "source": [
    "c"
   ]
  },
  {
   "cell_type": "code",
   "execution_count": 39,
   "id": "4cbfa954-1bd2-4867-9a92-7960f6902413",
   "metadata": {},
   "outputs": [],
   "source": [
    "c.remove(45)"
   ]
  },
  {
   "cell_type": "code",
   "execution_count": 41,
   "id": "b1286f3c-079f-4563-a571-2a6b6df4811c",
   "metadata": {},
   "outputs": [
    {
     "data": {
      "text/plain": [
       "[203, 90, 'Hyderabad', 45, True, False, 78, 175, 34.9, 80, 80]"
      ]
     },
     "execution_count": 41,
     "metadata": {},
     "output_type": "execute_result"
    }
   ],
   "source": [
    "c"
   ]
  },
  {
   "cell_type": "code",
   "execution_count": 43,
   "id": "c2bc0a39-586e-4844-b8c6-21ccd2b02f1d",
   "metadata": {},
   "outputs": [
    {
     "data": {
      "text/plain": [
       "78"
      ]
     },
     "execution_count": 43,
     "metadata": {},
     "output_type": "execute_result"
    }
   ],
   "source": [
    "c.pop(6)"
   ]
  },
  {
   "cell_type": "code",
   "execution_count": 45,
   "id": "99cadb43-a370-499f-af29-04d2e41d027d",
   "metadata": {},
   "outputs": [
    {
     "data": {
      "text/plain": [
       "[203, 90, 'Hyderabad', 45, True, False, 175, 34.9, 80, 80]"
      ]
     },
     "execution_count": 45,
     "metadata": {},
     "output_type": "execute_result"
    }
   ],
   "source": [
    "c"
   ]
  },
  {
   "cell_type": "code",
   "execution_count": 47,
   "id": "6a61c337-f42b-4cd2-a3d9-7b555bcbcf9e",
   "metadata": {},
   "outputs": [
    {
     "data": {
      "text/plain": [
       "45"
      ]
     },
     "execution_count": 47,
     "metadata": {},
     "output_type": "execute_result"
    }
   ],
   "source": [
    "c.pop(3)"
   ]
  },
  {
   "cell_type": "code",
   "execution_count": 49,
   "id": "81df90b2-459b-4837-bfde-b08c6b372682",
   "metadata": {},
   "outputs": [
    {
     "data": {
      "text/plain": [
       "[203, 90, 'Hyderabad', True, False, 175, 34.9, 80, 80]"
      ]
     },
     "execution_count": 49,
     "metadata": {},
     "output_type": "execute_result"
    }
   ],
   "source": [
    "c"
   ]
  },
  {
   "cell_type": "code",
   "execution_count": null,
   "id": "47dbe08e-6061-40d5-a4f0-5ec3010b2a81",
   "metadata": {},
   "outputs": [],
   "source": [
    "# c.clear()"
   ]
  },
  {
   "cell_type": "code",
   "execution_count": 51,
   "id": "3d06ab34-43e8-4143-a530-5c2364b467e1",
   "metadata": {},
   "outputs": [
    {
     "data": {
      "text/plain": [
       "[203, 90, 'Hyderabad', True, False, 175, 34.9, 80, 80]"
      ]
     },
     "execution_count": 51,
     "metadata": {},
     "output_type": "execute_result"
    }
   ],
   "source": [
    "c"
   ]
  },
  {
   "cell_type": "code",
   "execution_count": 53,
   "id": "e6b2595e-f752-4d3c-9503-902d8718c781",
   "metadata": {},
   "outputs": [
    {
     "data": {
      "text/plain": [
       "list"
      ]
     },
     "execution_count": 53,
     "metadata": {},
     "output_type": "execute_result"
    }
   ],
   "source": [
    "type(c)"
   ]
  },
  {
   "cell_type": "code",
   "execution_count": null,
   "id": "01b0a452-d114-414f-a901-0221378c0941",
   "metadata": {},
   "outputs": [],
   "source": [
    "# del c"
   ]
  },
  {
   "cell_type": "code",
   "execution_count": 55,
   "id": "de5b21d9-8b07-472d-b33e-c1179883ba7a",
   "metadata": {},
   "outputs": [
    {
     "data": {
      "text/plain": [
       "[203, 90, 'Hyderabad', True, False, 175, 34.9, 80, 80]"
      ]
     },
     "execution_count": 55,
     "metadata": {},
     "output_type": "execute_result"
    }
   ],
   "source": [
    "c"
   ]
  },
  {
   "cell_type": "code",
   "execution_count": 59,
   "id": "16549918-5240-4b93-ae22-de9ebf5284ca",
   "metadata": {},
   "outputs": [],
   "source": [
    "c.extend([1,2,3,4,5])"
   ]
  },
  {
   "cell_type": "code",
   "execution_count": 61,
   "id": "49667a07-282d-49f9-94f3-3b2f1e578474",
   "metadata": {},
   "outputs": [
    {
     "data": {
      "text/plain": [
       "[203, 90, 'Hyderabad', True, False, 175, 34.9, 80, 80, 1, 2, 3, 4, 5]"
      ]
     },
     "execution_count": 61,
     "metadata": {},
     "output_type": "execute_result"
    }
   ],
   "source": [
    "c"
   ]
  },
  {
   "cell_type": "code",
   "execution_count": 67,
   "id": "010f376e-cd9d-4634-94d7-21157f2c2cfd",
   "metadata": {},
   "outputs": [
    {
     "data": {
      "text/plain": [
       "2"
      ]
     },
     "execution_count": 67,
     "metadata": {},
     "output_type": "execute_result"
    }
   ],
   "source": [
    "c.count(80)"
   ]
  },
  {
   "cell_type": "markdown",
   "id": "cf9e3e1a-98a6-4d8c-bc64-62710f0e569c",
   "metadata": {},
   "source": [
    "## Tuple"
   ]
  },
  {
   "cell_type": "code",
   "execution_count": 2,
   "id": "9275e387-293b-432a-bffe-76cc717fcaa4",
   "metadata": {},
   "outputs": [
    {
     "data": {
      "text/plain": [
       "(90, 70, 50, 30, 20)"
      ]
     },
     "execution_count": 2,
     "metadata": {},
     "output_type": "execute_result"
    }
   ],
   "source": [
    "h=(90,70,50,30,20)\n",
    "h"
   ]
  },
  {
   "cell_type": "markdown",
   "id": "8b295d3d-7bcd-4bdb-a23f-c699588ec9a6",
   "metadata": {},
   "source": [
    "## Tuple Methods\n",
    "## 1.Count\n",
    "## 2.Index"
   ]
  },
  {
   "cell_type": "code",
   "execution_count": 2,
   "id": "3d522740-ac23-4beb-b33c-c3da1a85dbf5",
   "metadata": {},
   "outputs": [
    {
     "name": "stdout",
     "output_type": "stream",
     "text": [
      "2\n"
     ]
    }
   ],
   "source": [
    "thistuple = (1, 3, 7, 8, 7, 5, 4, 6, 8, 5)\n",
    "\n",
    "x = thistuple.count(5)\n",
    "\n",
    "print(x)"
   ]
  },
  {
   "cell_type": "code",
   "execution_count": 4,
   "id": "b40f0be3-0256-42bc-ab55-592fa1336d3e",
   "metadata": {},
   "outputs": [
    {
     "name": "stdout",
     "output_type": "stream",
     "text": [
      "3\n"
     ]
    }
   ],
   "source": [
    "thistuple = (1, 3, 7, 8, 7, 5, 4, 6, 8, 5)\n",
    "\n",
    "x = thistuple.index(8)\n",
    "\n",
    "print(x)"
   ]
  },
  {
   "cell_type": "markdown",
   "id": "fa4fdcfb-f19e-41ba-8698-66834112d964",
   "metadata": {},
   "source": [
    "# Sets"
   ]
  },
  {
   "cell_type": "code",
   "execution_count": 11,
   "id": "270489f9-b861-4d5e-a018-c0641b17ab42",
   "metadata": {},
   "outputs": [
    {
     "data": {
      "text/plain": [
       "{21, 34, 43, 45, 67, 87, 90, 98, 600}"
      ]
     },
     "execution_count": 11,
     "metadata": {},
     "output_type": "execute_result"
    }
   ],
   "source": [
    "s = {45,34,67,600,98,90,43,21,87,600,600,600}\n",
    "s"
   ]
  },
  {
   "cell_type": "code",
   "execution_count": 13,
   "id": "517cddce-da08-437d-94b2-4cde20fc71ec",
   "metadata": {},
   "outputs": [
    {
     "data": {
      "text/plain": [
       "set"
      ]
     },
     "execution_count": 13,
     "metadata": {},
     "output_type": "execute_result"
    }
   ],
   "source": [
    "type(s)"
   ]
  },
  {
   "cell_type": "code",
   "execution_count": null,
   "id": "854cfcdf-fba9-4b15-8b2f-63710f65dec4",
   "metadata": {},
   "outputs": [],
   "source": [
    "s set and others"
   ]
  },
  {
   "cell_type": "code",
   "execution_count": 22,
   "id": "d594136d-45da-437f-93a3-34e73fd16464",
   "metadata": {},
   "outputs": [],
   "source": [
    "s.add(99)"
   ]
  },
  {
   "cell_type": "code",
   "execution_count": 24,
   "id": "869557be-c024-43c2-a5e2-a44eee586803",
   "metadata": {},
   "outputs": [
    {
     "data": {
      "text/plain": [
       "{21, 34, 43, 45, 67, 87, 90, 98, 99, 600}"
      ]
     },
     "execution_count": 24,
     "metadata": {},
     "output_type": "execute_result"
    }
   ],
   "source": [
    "s"
   ]
  },
  {
   "cell_type": "code",
   "execution_count": 26,
   "id": "bb777943-ac4a-463c-9a33-59fc03282904",
   "metadata": {},
   "outputs": [],
   "source": [
    "s.remove(45)"
   ]
  },
  {
   "cell_type": "code",
   "execution_count": 28,
   "id": "31942d83-7f8c-454e-a9f0-7d64592de9f4",
   "metadata": {},
   "outputs": [
    {
     "data": {
      "text/plain": [
       "{21, 34, 43, 67, 87, 90, 98, 99, 600}"
      ]
     },
     "execution_count": 28,
     "metadata": {},
     "output_type": "execute_result"
    }
   ],
   "source": [
    "s"
   ]
  },
  {
   "cell_type": "code",
   "execution_count": 32,
   "id": "3a41cb86-1814-40de-b5f8-742fd3686df8",
   "metadata": {},
   "outputs": [
    {
     "data": {
      "text/plain": [
       "{10, 12, 30, 50, 60, 67, 80, 90}"
      ]
     },
     "execution_count": 32,
     "metadata": {},
     "output_type": "execute_result"
    }
   ],
   "source": [
    "y={12,10,30,90,67,50,60,80}\n",
    "y"
   ]
  },
  {
   "cell_type": "code",
   "execution_count": 34,
   "id": "c0a2548d-3c2c-4cd1-862a-b7173499d4eb",
   "metadata": {},
   "outputs": [
    {
     "data": {
      "text/plain": [
       "{67, 90}"
      ]
     },
     "execution_count": 34,
     "metadata": {},
     "output_type": "execute_result"
    }
   ],
   "source": [
    "s.intersection(y)"
   ]
  },
  {
   "cell_type": "code",
   "execution_count": 41,
   "id": "6402982e-b01c-44d2-be90-7cdb3625161d",
   "metadata": {},
   "outputs": [
    {
     "data": {
      "text/plain": [
       "{40, 50, 60, 70, 80}"
      ]
     },
     "execution_count": 41,
     "metadata": {},
     "output_type": "execute_result"
    }
   ],
   "source": [
    "s = {40,50,60,70,80}\n",
    "s"
   ]
  },
  {
   "cell_type": "code",
   "execution_count": 45,
   "id": "e00f7e08-e6d0-4e53-bf7d-53266f1a2ccc",
   "metadata": {},
   "outputs": [
    {
     "data": {
      "text/plain": [
       "{10, 20, 30, 40, 50}"
      ]
     },
     "execution_count": 45,
     "metadata": {},
     "output_type": "execute_result"
    }
   ],
   "source": [
    "y = {10,20,30,40,50}\n",
    "y"
   ]
  },
  {
   "cell_type": "code",
   "execution_count": 47,
   "id": "92a3b167-5000-49d2-9878-b6a9c3d06565",
   "metadata": {},
   "outputs": [
    {
     "data": {
      "text/plain": [
       "{60, 70, 80}"
      ]
     },
     "execution_count": 47,
     "metadata": {},
     "output_type": "execute_result"
    }
   ],
   "source": [
    "s.difference(y)"
   ]
  },
  {
   "cell_type": "code",
   "execution_count": 49,
   "id": "0b194e71-6467-4eb2-a623-532a4c292e41",
   "metadata": {},
   "outputs": [
    {
     "data": {
      "text/plain": [
       "{40, 50}"
      ]
     },
     "execution_count": 49,
     "metadata": {},
     "output_type": "execute_result"
    }
   ],
   "source": [
    "s.intersection(y)"
   ]
  },
  {
   "cell_type": "code",
   "execution_count": 51,
   "id": "a4cd403a-2251-41ea-8df4-0859df70da32",
   "metadata": {},
   "outputs": [
    {
     "data": {
      "text/plain": [
       "{10, 20, 30, 40, 50, 60, 70, 80}"
      ]
     },
     "execution_count": 51,
     "metadata": {},
     "output_type": "execute_result"
    }
   ],
   "source": [
    "s.union(y)"
   ]
  },
  {
   "cell_type": "code",
   "execution_count": null,
   "id": "cc17ab8a-9032-44d6-a801-d00dfa6093d9",
   "metadata": {},
   "outputs": [],
   "source": []
  }
 ],
 "metadata": {
  "kernelspec": {
   "display_name": "Python 3 (ipykernel)",
   "language": "python",
   "name": "python3"
  },
  "language_info": {
   "codemirror_mode": {
    "name": "ipython",
    "version": 3
   },
   "file_extension": ".py",
   "mimetype": "text/x-python",
   "name": "python",
   "nbconvert_exporter": "python",
   "pygments_lexer": "ipython3",
   "version": "3.12.4"
  }
 },
 "nbformat": 4,
 "nbformat_minor": 5
}
