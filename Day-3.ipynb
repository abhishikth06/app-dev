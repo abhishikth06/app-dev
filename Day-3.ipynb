{
 "cells": [
  {
   "cell_type": "code",
   "execution_count": null,
   "id": "5dd7491c-fe48-4dde-b499-3418388b58b1",
   "metadata": {},
   "outputs": [],
   "source": []
  },
  {
   "cell_type": "code",
   "execution_count": null,
   "id": "5c641692-f25a-4ece-823d-bcf0ebee878a",
   "metadata": {},
   "outputs": [],
   "source": []
  },
  {
   "cell_type": "code",
   "execution_count": null,
   "id": "3cbd94b3-0dd7-43f8-845c-4ffec992e236",
   "metadata": {},
   "outputs": [],
   "source": []
  },
  {
   "cell_type": "code",
   "execution_count": 36,
   "id": "8552f2c6-bd2f-4b7a-a461-a5c9f7acce98",
   "metadata": {},
   "outputs": [
    {
     "data": {
      "text/plain": [
       "{'A': 4, 102: 7, 'B': 2, 104: 12}"
      ]
     },
     "execution_count": 36,
     "metadata": {},
     "output_type": "execute_result"
    }
   ],
   "source": [
    "d={'A':4,102:7,'B':2,104:12}\n",
    "d"
   ]
  },
  {
   "cell_type": "code",
   "execution_count": 37,
   "id": "0f0d5859-a7cd-4120-b758-e8bc68fd2457",
   "metadata": {},
   "outputs": [
    {
     "data": {
      "text/plain": [
       "4"
      ]
     },
     "execution_count": 37,
     "metadata": {},
     "output_type": "execute_result"
    }
   ],
   "source": [
    "d[\"A\"]"
   ]
  },
  {
   "cell_type": "code",
   "execution_count": 38,
   "id": "ffb227b8-7838-4cbc-9cea-f34030b8197a",
   "metadata": {},
   "outputs": [
    {
     "data": {
      "text/plain": [
       "12"
      ]
     },
     "execution_count": 38,
     "metadata": {},
     "output_type": "execute_result"
    }
   ],
   "source": [
    "d[104]"
   ]
  },
  {
   "cell_type": "code",
   "execution_count": 39,
   "id": "4c6d31bc-c07b-4e09-a575-8d0ca977ec6e",
   "metadata": {},
   "outputs": [],
   "source": [
    "# d[101]"
   ]
  },
  {
   "cell_type": "code",
   "execution_count": 40,
   "id": "890b20c8-f3d6-4ca0-a6db-ff0cf7519236",
   "metadata": {},
   "outputs": [
    {
     "data": {
      "text/plain": [
       "{101: 4, 102: 7, 'B': 2, 104: 12, 105: 2}"
      ]
     },
     "execution_count": 40,
     "metadata": {},
     "output_type": "execute_result"
    }
   ],
   "source": [
    "d={101:4,102:7,'B':2,104:12,105:2}\n",
    "d"
   ]
  },
  {
   "cell_type": "code",
   "execution_count": 41,
   "id": "0c6fdd62-2df0-471b-923b-01dd76854774",
   "metadata": {},
   "outputs": [],
   "source": [
    "d[101] = 200"
   ]
  },
  {
   "cell_type": "code",
   "execution_count": 42,
   "id": "6a8d86aa-aafd-4f2a-8029-00ad8f5b88ea",
   "metadata": {},
   "outputs": [
    {
     "data": {
      "text/plain": [
       "{101: 200, 102: 7, 'B': 2, 104: 12, 105: 2}"
      ]
     },
     "execution_count": 42,
     "metadata": {},
     "output_type": "execute_result"
    }
   ],
   "source": [
    "d"
   ]
  },
  {
   "cell_type": "code",
   "execution_count": 43,
   "id": "ea34101e-61b9-465e-809d-c87fb72e3318",
   "metadata": {},
   "outputs": [],
   "source": [
    "d.update({105:300})"
   ]
  },
  {
   "cell_type": "code",
   "execution_count": 44,
   "id": "c77c503f-4bbe-4cb3-9cec-fbf9e118f80d",
   "metadata": {},
   "outputs": [
    {
     "data": {
      "text/plain": [
       "{101: 200, 102: 7, 'B': 2, 104: 12, 105: 300}"
      ]
     },
     "execution_count": 44,
     "metadata": {},
     "output_type": "execute_result"
    }
   ],
   "source": [
    "d"
   ]
  },
  {
   "cell_type": "code",
   "execution_count": 45,
   "id": "7ddfd138-3b08-498c-ae21-09f62cb75b2e",
   "metadata": {},
   "outputs": [],
   "source": [
    "# d[103]"
   ]
  },
  {
   "cell_type": "code",
   "execution_count": 46,
   "id": "b77e6b37-0605-4f0e-8e94-749dcf310480",
   "metadata": {},
   "outputs": [
    {
     "data": {
      "text/plain": [
       "dict_keys([101, 102, 'B', 104, 105])"
      ]
     },
     "execution_count": 46,
     "metadata": {},
     "output_type": "execute_result"
    }
   ],
   "source": [
    "d.keys() #It will give only the Keys i.e--> Left"
   ]
  },
  {
   "cell_type": "code",
   "execution_count": 47,
   "id": "5e6537aa-fd1d-45a1-a59b-5fd61461e400",
   "metadata": {},
   "outputs": [
    {
     "data": {
      "text/plain": [
       "dict_values([200, 7, 2, 12, 300])"
      ]
     },
     "execution_count": 47,
     "metadata": {},
     "output_type": "execute_result"
    }
   ],
   "source": [
    "d.values() #It will give only the Values i.e--> Right"
   ]
  },
  {
   "cell_type": "code",
   "execution_count": 48,
   "id": "13e39ebf-1814-4fbd-a0b4-426f1138b15c",
   "metadata": {},
   "outputs": [
    {
     "data": {
      "text/plain": [
       "dict_items([(101, 200), (102, 7), ('B', 2), (104, 12), (105, 300)])"
      ]
     },
     "execution_count": 48,
     "metadata": {},
     "output_type": "execute_result"
    }
   ],
   "source": [
    "d.items() #Key Value pair in Tuple form"
   ]
  },
  {
   "cell_type": "code",
   "execution_count": 49,
   "id": "5656596b-feb3-4ef9-8ed9-ec6564103d38",
   "metadata": {},
   "outputs": [
    {
     "data": {
      "text/plain": [
       "{101: 200, 102: 7, 'B': 2, 104: 12, 105: 300}"
      ]
     },
     "execution_count": 49,
     "metadata": {},
     "output_type": "execute_result"
    }
   ],
   "source": [
    "d"
   ]
  },
  {
   "cell_type": "code",
   "execution_count": 50,
   "id": "2aff17ed-3e93-4516-9e73-671b10c7199c",
   "metadata": {},
   "outputs": [
    {
     "data": {
      "text/plain": [
       "{101: 200, 102: 7, 'B': 2, 104: 12, 105: 300, 103: 'India'}"
      ]
     },
     "execution_count": 50,
     "metadata": {},
     "output_type": "execute_result"
    }
   ],
   "source": [
    "d.update({103:'India'})\n",
    "d"
   ]
  },
  {
   "cell_type": "code",
   "execution_count": 51,
   "id": "90db300c-570c-4e29-af66-e9898d131e0d",
   "metadata": {},
   "outputs": [],
   "source": [
    "#The Dictionaries does not allow duplicates\n",
    "d[101] = 200"
   ]
  },
  {
   "cell_type": "code",
   "execution_count": 52,
   "id": "588a2996-8571-4ec1-9b13-44d3f2093606",
   "metadata": {},
   "outputs": [
    {
     "data": {
      "text/plain": [
       "{101: 200, 102: 7, 'B': 2, 104: 12, 105: 300, 103: 'India'}"
      ]
     },
     "execution_count": 52,
     "metadata": {},
     "output_type": "execute_result"
    }
   ],
   "source": [
    "d"
   ]
  },
  {
   "cell_type": "code",
   "execution_count": 53,
   "id": "07caef12-80e5-4ada-bca6-71a73b77f541",
   "metadata": {},
   "outputs": [],
   "source": [
    "del d[105] #It will delete the key-value pair of specificed key"
   ]
  },
  {
   "cell_type": "code",
   "execution_count": 54,
   "id": "c3f7523d-f89c-407b-9c79-5c51c025c8f7",
   "metadata": {},
   "outputs": [
    {
     "data": {
      "text/plain": [
       "{101: 200, 102: 7, 'B': 2, 104: 12, 103: 'India'}"
      ]
     },
     "execution_count": 54,
     "metadata": {},
     "output_type": "execute_result"
    }
   ],
   "source": [
    "d"
   ]
  },
  {
   "cell_type": "code",
   "execution_count": 55,
   "id": "a359a47c-d710-4398-b32e-47845b3aac0a",
   "metadata": {},
   "outputs": [],
   "source": [
    "d.update({102:600}) # #The Dictionaries does not allow duplicates Keys but it allows duplicates Values"
   ]
  },
  {
   "cell_type": "code",
   "execution_count": 56,
   "id": "c270de34-5066-46f1-8e5d-5758c80a9dde",
   "metadata": {},
   "outputs": [
    {
     "data": {
      "text/plain": [
       "{101: 200, 102: 600, 'B': 2, 104: 12, 103: 'India'}"
      ]
     },
     "execution_count": 56,
     "metadata": {},
     "output_type": "execute_result"
    }
   ],
   "source": [
    "d"
   ]
  },
  {
   "cell_type": "code",
   "execution_count": 57,
   "id": "40351aec-81cd-44ac-bd9a-ee37a98dd0a3",
   "metadata": {},
   "outputs": [],
   "source": [
    "d.update({104:\"India\"})"
   ]
  },
  {
   "cell_type": "code",
   "execution_count": 58,
   "id": "2da28507-8bb8-4281-bbef-b164fba5c519",
   "metadata": {},
   "outputs": [
    {
     "data": {
      "text/plain": [
       "{101: 200, 102: 600, 'B': 2, 104: 'India', 103: 'India'}"
      ]
     },
     "execution_count": 58,
     "metadata": {},
     "output_type": "execute_result"
    }
   ],
   "source": [
    "d"
   ]
  },
  {
   "cell_type": "code",
   "execution_count": 59,
   "id": "8155c379-89c6-4630-a651-253a87aa1324",
   "metadata": {},
   "outputs": [
    {
     "data": {
      "text/plain": [
       "200"
      ]
     },
     "execution_count": 59,
     "metadata": {},
     "output_type": "execute_result"
    }
   ],
   "source": [
    "d.get(101)"
   ]
  },
  {
   "cell_type": "code",
   "execution_count": 60,
   "id": "c9c9c53d-08aa-4b78-8915-89e064aedf1f",
   "metadata": {},
   "outputs": [
    {
     "data": {
      "text/plain": [
       "200"
      ]
     },
     "execution_count": 60,
     "metadata": {},
     "output_type": "execute_result"
    }
   ],
   "source": [
    "d[101]"
   ]
  },
  {
   "cell_type": "code",
   "execution_count": 61,
   "id": "1b1e7d5f-a2f2-43cb-93fd-a7ff462f0d52",
   "metadata": {},
   "outputs": [
    {
     "data": {
      "text/plain": [
       "{101: 200, 102: 600, 'B': 2, 104: 'India', 103: 'India'}"
      ]
     },
     "execution_count": 61,
     "metadata": {},
     "output_type": "execute_result"
    }
   ],
   "source": [
    "d"
   ]
  },
  {
   "cell_type": "code",
   "execution_count": 62,
   "id": "2dfa9359-e86c-4701-8ef2-b90e1a0826a4",
   "metadata": {},
   "outputs": [],
   "source": [
    "d.update({102:[1000,5000,6000,7000]})"
   ]
  },
  {
   "cell_type": "code",
   "execution_count": 63,
   "id": "f6d6bb92-535f-4c35-9eeb-61d533e635d4",
   "metadata": {},
   "outputs": [],
   "source": [
    "# d[102] = [1000,5000,6000,7000]"
   ]
  },
  {
   "cell_type": "code",
   "execution_count": null,
   "id": "1de51b12-281b-4e1e-b0fa-5778bb4d98b7",
   "metadata": {},
   "outputs": [],
   "source": []
  },
  {
   "cell_type": "code",
   "execution_count": 64,
   "id": "2add3d32-f065-4e5f-801f-6cdbbb650de9",
   "metadata": {},
   "outputs": [
    {
     "data": {
      "text/plain": [
       "{101: 200, 102: [1000, 5000, 6000, 7000], 'B': 2, 104: 'India', 103: 'India'}"
      ]
     },
     "execution_count": 64,
     "metadata": {},
     "output_type": "execute_result"
    }
   ],
   "source": [
    "d"
   ]
  },
  {
   "cell_type": "code",
   "execution_count": 65,
   "id": "44199fff-4965-49cb-87c9-f0f26d2b15b9",
   "metadata": {},
   "outputs": [
    {
     "data": {
      "text/plain": [
       "dict"
      ]
     },
     "execution_count": 65,
     "metadata": {},
     "output_type": "execute_result"
    }
   ],
   "source": [
    "type(d)"
   ]
  },
  {
   "cell_type": "code",
   "execution_count": 66,
   "id": "92cf2e81-d5bd-4a9a-932b-e2389cbbf4b2",
   "metadata": {},
   "outputs": [
    {
     "data": {
      "text/plain": [
       "{101: 200, 102: [1000, 5000, 6000, 7000], 'B': 2, 104: 'India', 103: 'India'}"
      ]
     },
     "execution_count": 66,
     "metadata": {},
     "output_type": "execute_result"
    }
   ],
   "source": [
    "d"
   ]
  },
  {
   "cell_type": "code",
   "execution_count": 68,
   "id": "1f519f12-7365-44eb-9b3f-58a149d34392",
   "metadata": {},
   "outputs": [
    {
     "data": {
      "text/plain": [
       "int"
      ]
     },
     "execution_count": 68,
     "metadata": {},
     "output_type": "execute_result"
    }
   ],
   "source": [
    "type(d['B'])"
   ]
  },
  {
   "cell_type": "code",
   "execution_count": 74,
   "id": "9c490e6d-6d97-4007-b20b-b9f968a22361",
   "metadata": {},
   "outputs": [
    {
     "data": {
      "text/plain": [
       "str"
      ]
     },
     "execution_count": 74,
     "metadata": {},
     "output_type": "execute_result"
    }
   ],
   "source": [
    "type(d[104])"
   ]
  },
  {
   "cell_type": "code",
   "execution_count": null,
   "id": "fc63e247-7089-4550-82de-fd6823e8229e",
   "metadata": {},
   "outputs": [],
   "source": [
    "## String Methods"
   ]
  },
  {
   "cell_type": "code",
   "execution_count": 78,
   "id": "affeff74-398e-403f-96bd-04bf43c58176",
   "metadata": {},
   "outputs": [],
   "source": [
    "a = 'india'"
   ]
  },
  {
   "cell_type": "code",
   "execution_count": 80,
   "id": "09cecd03-c233-4a2d-bc19-41832c0890e8",
   "metadata": {},
   "outputs": [
    {
     "data": {
      "text/plain": [
       "'india'"
      ]
     },
     "execution_count": 80,
     "metadata": {},
     "output_type": "execute_result"
    }
   ],
   "source": [
    "a"
   ]
  },
  {
   "cell_type": "code",
   "execution_count": 82,
   "id": "938678e2-5d72-4d04-bfc1-9d2372278be7",
   "metadata": {},
   "outputs": [
    {
     "data": {
      "text/plain": [
       "'INDIA'"
      ]
     },
     "execution_count": 82,
     "metadata": {},
     "output_type": "execute_result"
    }
   ],
   "source": [
    "a.upper()"
   ]
  },
  {
   "cell_type": "code",
   "execution_count": 86,
   "id": "989e24dc-3a9a-433b-a8b6-2f03157040f2",
   "metadata": {},
   "outputs": [
    {
     "data": {
      "text/plain": [
       "False"
      ]
     },
     "execution_count": 86,
     "metadata": {},
     "output_type": "execute_result"
    }
   ],
   "source": [
    "a.isdigit()"
   ]
  },
  {
   "cell_type": "code",
   "execution_count": 92,
   "id": "d7606daf-2852-4de9-a44e-75b2fdcb394a",
   "metadata": {},
   "outputs": [
    {
     "data": {
      "text/plain": [
       "[1000, 5000, 6000, 7000]"
      ]
     },
     "execution_count": 92,
     "metadata": {},
     "output_type": "execute_result"
    }
   ],
   "source": [
    "d[102]"
   ]
  },
  {
   "cell_type": "code",
   "execution_count": 94,
   "id": "6aaffc57-844a-4a92-a54c-2ceb73ba932e",
   "metadata": {},
   "outputs": [
    {
     "data": {
      "text/plain": [
       "list"
      ]
     },
     "execution_count": 94,
     "metadata": {},
     "output_type": "execute_result"
    }
   ],
   "source": [
    "type(d[102])"
   ]
  },
  {
   "cell_type": "code",
   "execution_count": 96,
   "id": "c33d9f77-fcef-429b-9bbd-9c3723b12666",
   "metadata": {},
   "outputs": [],
   "source": [
    "# If the value is a list then we can apply the list methods\n",
    "d[102].append(8000)"
   ]
  },
  {
   "cell_type": "code",
   "execution_count": 98,
   "id": "c75b2724-580a-44fb-b287-9c6c025fb8aa",
   "metadata": {},
   "outputs": [
    {
     "data": {
      "text/plain": [
       "{101: 200,\n",
       " 102: [1000, 5000, 6000, 7000, 8000],\n",
       " 'B': 2,\n",
       " 104: 'India',\n",
       " 103: 'India'}"
      ]
     },
     "execution_count": 98,
     "metadata": {},
     "output_type": "execute_result"
    }
   ],
   "source": [
    "d"
   ]
  },
  {
   "cell_type": "code",
   "execution_count": 241,
   "id": "36313fc1-c062-4edd-adf0-919ca87e062d",
   "metadata": {},
   "outputs": [
    {
     "data": {
      "text/plain": [
       "{101: 200,\n",
       " 102: 600,\n",
       " 103: 'India',\n",
       " 106: 4000,\n",
       " 107: 'India',\n",
       " 104: [1000, 5000, 6000, 7000]}"
      ]
     },
     "execution_count": 241,
     "metadata": {},
     "output_type": "execute_result"
    }
   ],
   "source": [
    "d={\n",
    "    101:200,\n",
    "    102:600,\n",
    "    103:'India',\n",
    "    106:4000,\n",
    "    107:'India',\n",
    "    104:[1000,5000,6000,7000]\n",
    "}\n",
    "d"
   ]
  },
  {
   "cell_type": "code",
   "execution_count": 243,
   "id": "ede7fed0-5542-491b-9089-0dee786b2b0a",
   "metadata": {},
   "outputs": [
    {
     "data": {
      "text/plain": [
       "list"
      ]
     },
     "execution_count": 243,
     "metadata": {},
     "output_type": "execute_result"
    }
   ],
   "source": [
    "type(d[104])"
   ]
  },
  {
   "cell_type": "code",
   "execution_count": 245,
   "id": "bc2ac5cf-49e1-4a3b-86d9-24f408e725bb",
   "metadata": {},
   "outputs": [
    {
     "data": {
      "text/plain": [
       "1"
      ]
     },
     "execution_count": 245,
     "metadata": {},
     "output_type": "execute_result"
    }
   ],
   "source": [
    "d[104].count(5000)"
   ]
  },
  {
   "cell_type": "code",
   "execution_count": 247,
   "id": "7256735e-6957-49c9-a013-657e06b09e88",
   "metadata": {},
   "outputs": [],
   "source": [
    "d[104].append(\"Rajeev\")# If the value is a list then we can apply the list methods"
   ]
  },
  {
   "cell_type": "code",
   "execution_count": 249,
   "id": "e9e4409a-7c88-4fda-a484-0ca59e8bed41",
   "metadata": {},
   "outputs": [
    {
     "data": {
      "text/plain": [
       "{101: 200,\n",
       " 102: 600,\n",
       " 103: 'India',\n",
       " 106: 4000,\n",
       " 107: 'India',\n",
       " 104: [1000, 5000, 6000, 7000, 'Rajeev']}"
      ]
     },
     "execution_count": 249,
     "metadata": {},
     "output_type": "execute_result"
    }
   ],
   "source": [
    "d"
   ]
  },
  {
   "cell_type": "code",
   "execution_count": 251,
   "id": "217c1d91-e004-4830-8113-a58244507b98",
   "metadata": {},
   "outputs": [
    {
     "data": {
      "text/plain": [
       "[1000, 5000, 6000, 7000, 'Rajeev']"
      ]
     },
     "execution_count": 251,
     "metadata": {},
     "output_type": "execute_result"
    }
   ],
   "source": [
    "d[104]"
   ]
  },
  {
   "cell_type": "code",
   "execution_count": 253,
   "id": "08f02a3f-81d9-4ab7-ab33-6d46953bd6f7",
   "metadata": {},
   "outputs": [],
   "source": [
    "d[104].insert(2,5500)"
   ]
  },
  {
   "cell_type": "code",
   "execution_count": 255,
   "id": "dad2eebf-238f-4176-ace3-1ec4d099c259",
   "metadata": {},
   "outputs": [
    {
     "data": {
      "text/plain": [
       "{101: 200,\n",
       " 102: 600,\n",
       " 103: 'India',\n",
       " 106: 4000,\n",
       " 107: 'India',\n",
       " 104: [1000, 5000, 5500, 6000, 7000, 'Rajeev']}"
      ]
     },
     "execution_count": 255,
     "metadata": {},
     "output_type": "execute_result"
    }
   ],
   "source": [
    "d"
   ]
  },
  {
   "cell_type": "code",
   "execution_count": 257,
   "id": "1376ebaa-884d-4ed5-a7e4-1e3a2511d7f5",
   "metadata": {},
   "outputs": [],
   "source": [
    "d.update({103:[30,40,50,50,50,60,70]})"
   ]
  },
  {
   "cell_type": "code",
   "execution_count": 259,
   "id": "2f41be14-ce81-47f5-9aa1-44454ec8458a",
   "metadata": {},
   "outputs": [
    {
     "data": {
      "text/plain": [
       "{101: 200,\n",
       " 102: 600,\n",
       " 103: [30, 40, 50, 50, 50, 60, 70],\n",
       " 106: 4000,\n",
       " 107: 'India',\n",
       " 104: [1000, 5000, 5500, 6000, 7000, 'Rajeev']}"
      ]
     },
     "execution_count": 259,
     "metadata": {},
     "output_type": "execute_result"
    }
   ],
   "source": [
    "d"
   ]
  },
  {
   "cell_type": "code",
   "execution_count": 261,
   "id": "2cf02886-50a3-40ea-a3fb-4da17bcceadb",
   "metadata": {},
   "outputs": [
    {
     "data": {
      "text/plain": [
       "[30, 40, 50, 50, 50, 60, 70]"
      ]
     },
     "execution_count": 261,
     "metadata": {},
     "output_type": "execute_result"
    }
   ],
   "source": [
    "d[103]"
   ]
  },
  {
   "cell_type": "code",
   "execution_count": null,
   "id": "ccb2a2ce-1c55-4097-bdf8-73ce233495e3",
   "metadata": {},
   "outputs": [],
   "source": []
  },
  {
   "cell_type": "code",
   "execution_count": 263,
   "id": "9c1c029c-dbbc-4075-86cb-6829f52c5812",
   "metadata": {},
   "outputs": [
    {
     "data": {
      "text/plain": [
       "1"
      ]
     },
     "execution_count": 263,
     "metadata": {},
     "output_type": "execute_result"
    }
   ],
   "source": [
    "d[104].count(1000)"
   ]
  },
  {
   "cell_type": "code",
   "execution_count": 265,
   "id": "ada4b540-7ab1-4d48-b31c-0a0a799a44d5",
   "metadata": {},
   "outputs": [
    {
     "data": {
      "text/plain": [
       "0"
      ]
     },
     "execution_count": 265,
     "metadata": {},
     "output_type": "execute_result"
    }
   ],
   "source": [
    "d[104].index(1000)"
   ]
  },
  {
   "cell_type": "code",
   "execution_count": 267,
   "id": "780432d8-93e6-4234-9817-b18a131d57b2",
   "metadata": {},
   "outputs": [
    {
     "data": {
      "text/plain": [
       "{101: 200,\n",
       " 102: 600,\n",
       " 103: [30, 40, 50, 50, 50, 60, 70],\n",
       " 106: 4000,\n",
       " 107: 'India',\n",
       " 104: [1000, 5000, 5500, 6000, 7000, 'Rajeev']}"
      ]
     },
     "execution_count": 267,
     "metadata": {},
     "output_type": "execute_result"
    }
   ],
   "source": [
    "d"
   ]
  },
  {
   "cell_type": "code",
   "execution_count": 269,
   "id": "e01c129d-e3f1-41c6-873b-ecb7c2fd8a61",
   "metadata": {},
   "outputs": [
    {
     "name": "stdout",
     "output_type": "stream",
     "text": [
      "India\n",
      "<class 'str'>\n"
     ]
    }
   ],
   "source": [
    "print(d[107])\n",
    "print(type(d[107]))"
   ]
  },
  {
   "cell_type": "code",
   "execution_count": 271,
   "id": "5cf74f8e-f645-4557-a696-0d11ca836c65",
   "metadata": {},
   "outputs": [
    {
     "data": {
      "text/plain": [
       "'INDIA'"
      ]
     },
     "execution_count": 271,
     "metadata": {},
     "output_type": "execute_result"
    }
   ],
   "source": [
    "d[107].upper() #It shows but The String In-Mutable"
   ]
  },
  {
   "cell_type": "code",
   "execution_count": 273,
   "id": "ee55e834-8004-440a-9e29-d9a5e05ca3ee",
   "metadata": {},
   "outputs": [
    {
     "data": {
      "text/plain": [
       "{101: 200,\n",
       " 102: 600,\n",
       " 103: [30, 40, 50, 50, 50, 60, 70],\n",
       " 106: 4000,\n",
       " 107: 'India',\n",
       " 104: [1000, 5000, 5500, 6000, 7000, 'Rajeev']}"
      ]
     },
     "execution_count": 273,
     "metadata": {},
     "output_type": "execute_result"
    }
   ],
   "source": [
    "d #It shows but The String In-Mutable"
   ]
  },
  {
   "cell_type": "code",
   "execution_count": 275,
   "id": "f92be29f-c041-445c-857e-e1de50152eed",
   "metadata": {},
   "outputs": [],
   "source": [
    "d[107]=d[107].upper()"
   ]
  },
  {
   "cell_type": "code",
   "execution_count": 277,
   "id": "228a0052-fec3-472f-9845-c00375bc493a",
   "metadata": {},
   "outputs": [
    {
     "data": {
      "text/plain": [
       "{101: 200,\n",
       " 102: 600,\n",
       " 103: [30, 40, 50, 50, 50, 60, 70],\n",
       " 106: 4000,\n",
       " 107: 'INDIA',\n",
       " 104: [1000, 5000, 5500, 6000, 7000, 'Rajeev']}"
      ]
     },
     "execution_count": 277,
     "metadata": {},
     "output_type": "execute_result"
    }
   ],
   "source": [
    "d"
   ]
  },
  {
   "cell_type": "code",
   "execution_count": 279,
   "id": "9e47ee35-1736-4963-bfc7-0a24188051bb",
   "metadata": {},
   "outputs": [],
   "source": [
    "d[105]={'a':{30,50,70},'b':(1000,5000,7000,9000),'c':['K',{'L':[11,22],'M':(77,88)},'N']}"
   ]
  },
  {
   "cell_type": "code",
   "execution_count": 281,
   "id": "854a4670-1c2a-4ce6-a1ab-9a73c15a2d5f",
   "metadata": {},
   "outputs": [
    {
     "data": {
      "text/plain": [
       "{101: 200,\n",
       " 102: 600,\n",
       " 103: [30, 40, 50, 50, 50, 60, 70],\n",
       " 106: 4000,\n",
       " 107: 'INDIA',\n",
       " 104: [1000, 5000, 5500, 6000, 7000, 'Rajeev'],\n",
       " 105: {'a': {30, 50, 70},\n",
       "  'b': (1000, 5000, 7000, 9000),\n",
       "  'c': ['K', {'L': [11, 22], 'M': (77, 88)}, 'N']}}"
      ]
     },
     "execution_count": 281,
     "metadata": {},
     "output_type": "execute_result"
    }
   ],
   "source": [
    "d"
   ]
  },
  {
   "cell_type": "code",
   "execution_count": null,
   "id": "c758b334-9104-4f76-a6c7-b1fadc97bd3a",
   "metadata": {},
   "outputs": [],
   "source": [
    "# Access 88 in 105"
   ]
  },
  {
   "cell_type": "code",
   "execution_count": 289,
   "id": "db786be1-543b-492f-bc88-dadb341f460c",
   "metadata": {},
   "outputs": [
    {
     "data": {
      "text/plain": [
       "{'a': {30, 50, 70},\n",
       " 'b': (1000, 5000, 7000, 9000),\n",
       " 'c': ['K', {'L': [11, 22], 'M': (77, 88)}, 'N']}"
      ]
     },
     "execution_count": 289,
     "metadata": {},
     "output_type": "execute_result"
    }
   ],
   "source": [
    "d[105]"
   ]
  },
  {
   "cell_type": "code",
   "execution_count": 291,
   "id": "9c7babc7-6416-4615-800a-9e2a3f259d40",
   "metadata": {},
   "outputs": [
    {
     "data": {
      "text/plain": [
       "['K', {'L': [11, 22], 'M': (77, 88)}, 'N']"
      ]
     },
     "execution_count": 291,
     "metadata": {},
     "output_type": "execute_result"
    }
   ],
   "source": [
    "d[105]['c']"
   ]
  },
  {
   "cell_type": "code",
   "execution_count": 295,
   "id": "c52918ba-e5a1-4b46-8f16-6f4470104d23",
   "metadata": {},
   "outputs": [
    {
     "data": {
      "text/plain": [
       "{'L': [11, 22], 'M': (77, 88)}"
      ]
     },
     "execution_count": 295,
     "metadata": {},
     "output_type": "execute_result"
    }
   ],
   "source": [
    "d[105]['c'][1]"
   ]
  },
  {
   "cell_type": "code",
   "execution_count": 299,
   "id": "0cb24b1b-cc13-4b46-a9f4-18f460b3743b",
   "metadata": {},
   "outputs": [
    {
     "data": {
      "text/plain": [
       "(77, 88)"
      ]
     },
     "execution_count": 299,
     "metadata": {},
     "output_type": "execute_result"
    }
   ],
   "source": [
    "d[105]['c'][1]['M']"
   ]
  },
  {
   "cell_type": "code",
   "execution_count": 301,
   "id": "22f2ee2a-b439-450c-bf00-2733b97fa537",
   "metadata": {},
   "outputs": [
    {
     "data": {
      "text/plain": [
       "88"
      ]
     },
     "execution_count": 301,
     "metadata": {},
     "output_type": "execute_result"
    }
   ],
   "source": [
    "d[105]['c'][1]['M'][1]"
   ]
  },
  {
   "cell_type": "code",
   "execution_count": null,
   "id": "1b49bb8c-9eee-4a98-9633-a726956e4424",
   "metadata": {},
   "outputs": [],
   "source": []
  }
 ],
 "metadata": {
  "kernelspec": {
   "display_name": "Python 3 (ipykernel)",
   "language": "python",
   "name": "python3"
  },
  "language_info": {
   "codemirror_mode": {
    "name": "ipython",
    "version": 3
   },
   "file_extension": ".py",
   "mimetype": "text/x-python",
   "name": "python",
   "nbconvert_exporter": "python",
   "pygments_lexer": "ipython3",
   "version": "3.12.4"
  }
 },
 "nbformat": 4,
 "nbformat_minor": 5
}
